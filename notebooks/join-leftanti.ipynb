{
 "cells": [
  {
   "cell_type": "code",
   "execution_count": 1,
   "id": "8ad93b74-c436-4bf0-8e5c-2c0ea123a967",
   "metadata": {},
   "outputs": [],
   "source": [
    "import os\n",
    "import sys\n",
    "os.environ['PYSPARK_PYTHON'] = sys.executable\n",
    "os.environ['PYSPARK_DRIVER_PYTHON'] = sys.executable"
   ]
  },
  {
   "cell_type": "code",
   "execution_count": 2,
   "id": "5c6d8214-1872-4761-9ef3-2bd379fbb4e4",
   "metadata": {},
   "outputs": [],
   "source": [
    "from pyspark.sql import SparkSession"
   ]
  },
  {
   "cell_type": "code",
   "execution_count": 3,
   "id": "5db54053-82a3-4821-b08e-d00cc2cd74b3",
   "metadata": {},
   "outputs": [
    {
     "name": "stderr",
     "output_type": "stream",
     "text": [
      "24/09/18 15:45:28 WARN Utils: Your hostname, Matthews-MacBook-Pro.local resolves to a loopback address: 127.0.0.1; using 192.168.15.118 instead (on interface en0)\n",
      "24/09/18 15:45:28 WARN Utils: Set SPARK_LOCAL_IP if you need to bind to another address\n",
      "Setting default log level to \"WARN\".\n",
      "To adjust logging level use sc.setLogLevel(newLevel). For SparkR, use setLogLevel(newLevel).\n",
      "24/09/18 15:45:28 WARN NativeCodeLoader: Unable to load native-hadoop library for your platform... using builtin-java classes where applicable\n",
      "----------------------------------------\n",
      "Exception occurred during processing of request from ('127.0.0.1', 65318)\n",
      "Traceback (most recent call last):\n",
      "  File \"/opt/miniconda3/envs/pyspark-351/lib/python3.11/socketserver.py\", line 317, in _handle_request_noblock\n",
      "    self.process_request(request, client_address)\n",
      "  File \"/opt/miniconda3/envs/pyspark-351/lib/python3.11/socketserver.py\", line 348, in process_request\n",
      "    self.finish_request(request, client_address)\n",
      "  File \"/opt/miniconda3/envs/pyspark-351/lib/python3.11/socketserver.py\", line 361, in finish_request\n",
      "    self.RequestHandlerClass(request, client_address, self)\n",
      "  File \"/opt/miniconda3/envs/pyspark-351/lib/python3.11/socketserver.py\", line 755, in __init__\n",
      "    self.handle()\n",
      "  File \"/opt/miniconda3/envs/pyspark-351/lib/python3.11/site-packages/pyspark/accumulators.py\", line 295, in handle\n",
      "    poll(accum_updates)\n",
      "  File \"/opt/miniconda3/envs/pyspark-351/lib/python3.11/site-packages/pyspark/accumulators.py\", line 267, in poll\n",
      "    if self.rfile in r and func():\n",
      "                           ^^^^^^\n",
      "  File \"/opt/miniconda3/envs/pyspark-351/lib/python3.11/site-packages/pyspark/accumulators.py\", line 271, in accum_updates\n",
      "    num_updates = read_int(self.rfile)\n",
      "                  ^^^^^^^^^^^^^^^^^^^^\n",
      "  File \"/opt/miniconda3/envs/pyspark-351/lib/python3.11/site-packages/pyspark/serializers.py\", line 596, in read_int\n",
      "    raise EOFError\n",
      "EOFError\n",
      "----------------------------------------\n"
     ]
    }
   ],
   "source": [
    "spark = SparkSession.builder.master(\"local\").appName(\"demo\").getOrCreate()"
   ]
  },
  {
   "cell_type": "code",
   "execution_count": 4,
   "id": "328d3166-98c8-4c05-b85f-fc29c317f542",
   "metadata": {},
   "outputs": [],
   "source": [
    "transactions = spark.createDataFrame([\n",
    "    (1, \"socks\"), \n",
    "    (2, \"chips\"),\n",
    "    (3, \"air conditioner\"),\n",
    "    (4, \"tea\"),\n",
    "], [\"transaction_id\", \"item_name\"])"
   ]
  },
  {
   "cell_type": "code",
   "execution_count": 5,
   "id": "c95ce874-d491-43bf-b957-4b0bd15e3296",
   "metadata": {},
   "outputs": [
    {
     "name": "stderr",
     "output_type": "stream",
     "text": [
      "                                                                                \r"
     ]
    },
    {
     "name": "stdout",
     "output_type": "stream",
     "text": [
      "+--------------+---------------+\n",
      "|transaction_id|      item_name|\n",
      "+--------------+---------------+\n",
      "|             1|          socks|\n",
      "|             2|          chips|\n",
      "|             3|air conditioner|\n",
      "|             4|            tea|\n",
      "+--------------+---------------+\n",
      "\n"
     ]
    }
   ],
   "source": [
    "transactions.show()"
   ]
  },
  {
   "cell_type": "code",
   "execution_count": 6,
   "id": "0ac01a66-09bc-4e35-a62a-aed15b19707e",
   "metadata": {},
   "outputs": [],
   "source": [
    "voided = spark.createDataFrame([(1,), (4,)], [\"transaction_id\"])"
   ]
  },
  {
   "cell_type": "code",
   "execution_count": 7,
   "id": "a38c195f-6e54-44f2-a368-02f2245e6c40",
   "metadata": {},
   "outputs": [
    {
     "name": "stdout",
     "output_type": "stream",
     "text": [
      "+--------------+\n",
      "|transaction_id|\n",
      "+--------------+\n",
      "|             1|\n",
      "|             4|\n",
      "+--------------+\n",
      "\n"
     ]
    }
   ],
   "source": [
    "voided.show()"
   ]
  },
  {
   "cell_type": "code",
   "execution_count": 9,
   "id": "d2da6be6-cae4-48bc-9e67-96707203a384",
   "metadata": {},
   "outputs": [
    {
     "name": "stdout",
     "output_type": "stream",
     "text": [
      "+--------------+---------------+\n",
      "|transaction_id|      item_name|\n",
      "+--------------+---------------+\n",
      "|             3|air conditioner|\n",
      "|             2|          chips|\n",
      "+--------------+---------------+\n",
      "\n"
     ]
    }
   ],
   "source": [
    "transactions.join(\n",
    "    voided, \n",
    "    transactions.transaction_id == voided.transaction_id, \n",
    "    \"leftanti\"\n",
    ").show()"
   ]
  },
  {
   "cell_type": "code",
   "execution_count": null,
   "id": "95d1c35e-467c-4b35-8d53-9981841bf780",
   "metadata": {},
   "outputs": [],
   "source": []
  }
 ],
 "metadata": {
  "kernelspec": {
   "display_name": "pyspark-351",
   "language": "python",
   "name": "pyspark-351"
  },
  "language_info": {
   "codemirror_mode": {
    "name": "ipython",
    "version": 3
   },
   "file_extension": ".py",
   "mimetype": "text/x-python",
   "name": "python",
   "nbconvert_exporter": "python",
   "pygments_lexer": "ipython3",
   "version": "3.11.10"
  }
 },
 "nbformat": 4,
 "nbformat_minor": 5
}
