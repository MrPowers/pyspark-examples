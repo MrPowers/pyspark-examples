{
 "cells": [
  {
   "cell_type": "markdown",
   "id": "f55bef5b-a503-484e-a332-7e86028a5742",
   "metadata": {},
   "source": [
    "# Parallelize Python"
   ]
  },
  {
   "cell_type": "code",
   "execution_count": 1,
   "id": "dde276c5-88c0-4ce6-9215-59e1ae6a7610",
   "metadata": {},
   "outputs": [],
   "source": [
    "import jellyfish"
   ]
  },
  {
   "cell_type": "code",
   "execution_count": 3,
   "id": "fdb365e5-0ec8-490e-91cc-ae216eef69e9",
   "metadata": {},
   "outputs": [
    {
     "name": "stderr",
     "output_type": "stream",
     "text": [
      "/var/folders/rg/q_yx8y8n14db7cnn4382r6kh0000gn/T/ipykernel_74037/3261149550.py:3: DeprecationWarning: getargs: The 'u' format is deprecated. Use 'U' instead.\n",
      "  jellyfish.jaro_winkler_similarity(s1, s2)\n"
     ]
    },
    {
     "data": {
      "text/plain": [
       "0.8962962962962964"
      ]
     },
     "execution_count": 3,
     "metadata": {},
     "output_type": "execute_result"
    }
   ],
   "source": [
    "s1 = \"jellyfish\"\n",
    "s2 = \"smellyfish\"\n",
    "jellyfish.jaro_winkler_similarity(s1, s2)"
   ]
  },
  {
   "cell_type": "code",
   "execution_count": 5,
   "id": "e14c730e-aebc-4072-8333-d917eda1b7fc",
   "metadata": {},
   "outputs": [],
   "source": [
    "import os\n",
    "import sys\n",
    "os.environ['PYSPARK_PYTHON'] = sys.executable\n",
    "os.environ['PYSPARK_DRIVER_PYTHON'] = sys.executable"
   ]
  },
  {
   "cell_type": "code",
   "execution_count": 11,
   "id": "641be955-6805-439f-8f53-36ac101a2d2b",
   "metadata": {},
   "outputs": [],
   "source": [
    "from pyspark.sql import SparkSession\n",
    "from pyspark.sql import Column\n",
    "from pyspark.sql.types import StringType, IntegerType, BooleanType, FloatType\n",
    "from pyspark.sql.functions import udf, col"
   ]
  },
  {
   "cell_type": "code",
   "execution_count": 7,
   "id": "6facb991-e023-41a4-a0a7-a6c6834f8e7e",
   "metadata": {},
   "outputs": [
    {
     "name": "stderr",
     "output_type": "stream",
     "text": [
      "24/10/15 11:05:33 WARN Utils: Your hostname, Matthews-MacBook-Pro.local resolves to a loopback address: 127.0.0.1; using 192.168.8.188 instead (on interface en0)\n"
     ]
    }
   ],
   "source": [
    "spark = SparkSession.builder.master(\"local\").appName(\"demo\").getOrCreate()\n",
    "spark.sparkContext.setLogLevel(\"ERROR\")"
   ]
  },
  {
   "cell_type": "code",
   "execution_count": 12,
   "id": "fce8744d-1cb6-44d9-81f3-b89eb5a1fb3e",
   "metadata": {},
   "outputs": [],
   "source": [
    "data = [\n",
    "    (\"jellyfish\", \"smellyfish\"),\n",
    "    (\"li\", \"lee\"),\n",
    "    (\"luisa\", \"bruna\"),\n",
    "    (\"hi\", \"hi\"),\n",
    "    (None, None)\n",
    "]\n",
    "df = spark.createDataFrame(data, [\"word1\", \"word2\"])"
   ]
  },
  {
   "cell_type": "code",
   "execution_count": 13,
   "id": "a6497425-e9e1-4267-8261-326848b3cb63",
   "metadata": {},
   "outputs": [
    {
     "name": "stdout",
     "output_type": "stream",
     "text": [
      "+---------+----------+\n",
      "|    word1|     word2|\n",
      "+---------+----------+\n",
      "|jellyfish|smellyfish|\n",
      "|       li|       lee|\n",
      "|    luisa|     bruna|\n",
      "|       hi|        hi|\n",
      "|     NULL|      NULL|\n",
      "+---------+----------+\n",
      "\n"
     ]
    }
   ],
   "source": [
    "df.show()"
   ]
  },
  {
   "cell_type": "code",
   "execution_count": 14,
   "id": "ad2e4475-8649-409d-ae40-3089a53ec7c0",
   "metadata": {},
   "outputs": [],
   "source": [
    "@udf(returnType=FloatType())\n",
    "def jaro_winkler_similarity(s1, s2):\n",
    "     return None if s1 == None or s2 == None else jellyfish.jaro_winkler_similarity(s1, s2)"
   ]
  },
  {
   "cell_type": "code",
   "execution_count": 15,
   "id": "70b1e4cc-1186-4a86-9b31-d41e3ec2ecbf",
   "metadata": {},
   "outputs": [
    {
     "name": "stdout",
     "output_type": "stream",
     "text": [
      "+---------+----------+-------------+\n",
      "|    word1|     word2|jw_similarity|\n",
      "+---------+----------+-------------+\n",
      "|jellyfish|smellyfish|    0.8962963|\n",
      "|       li|       lee|    0.6111111|\n",
      "|    luisa|     bruna|          0.6|\n",
      "|       hi|        hi|          1.0|\n",
      "|     NULL|      NULL|         NULL|\n",
      "+---------+----------+-------------+\n",
      "\n"
     ]
    }
   ],
   "source": [
    "df.withColumn(\"jw_similarity\", jaro_winkler_similarity(df.word1, df.word2)).show()"
   ]
  },
  {
   "cell_type": "code",
   "execution_count": null,
   "id": "d6be0124-ba04-42a2-87b6-7e9e1cb38210",
   "metadata": {},
   "outputs": [],
   "source": []
  },
  {
   "cell_type": "code",
   "execution_count": null,
   "id": "3f0e2a09-5335-4e04-843c-ef5704911beb",
   "metadata": {},
   "outputs": [],
   "source": []
  }
 ],
 "metadata": {
  "kernelspec": {
   "display_name": "pyspark-351",
   "language": "python",
   "name": "pyspark-351"
  },
  "language_info": {
   "codemirror_mode": {
    "name": "ipython",
    "version": 3
   },
   "file_extension": ".py",
   "mimetype": "text/x-python",
   "name": "python",
   "nbconvert_exporter": "python",
   "pygments_lexer": "ipython3",
   "version": "3.11.10"
  }
 },
 "nbformat": 4,
 "nbformat_minor": 5
}
