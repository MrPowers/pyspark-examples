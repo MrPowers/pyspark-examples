{
 "cells": [
  {
   "cell_type": "code",
   "execution_count": 1,
   "id": "8b5cd08a-4a5d-42d6-9266-7b4797564adc",
   "metadata": {},
   "outputs": [],
   "source": [
    "import os\n",
    "import sys\n",
    "os.environ['PYSPARK_PYTHON'] = sys.executable\n",
    "os.environ['PYSPARK_DRIVER_PYTHON'] = sys.executable"
   ]
  },
  {
   "cell_type": "code",
   "execution_count": 2,
   "id": "77238da8-e979-47d9-a0da-12bab5490975",
   "metadata": {},
   "outputs": [],
   "source": [
    "from pyspark.sql import SparkSession"
   ]
  },
  {
   "cell_type": "code",
   "execution_count": 3,
   "id": "e2d50885-b64e-41eb-89de-a497c9d3648f",
   "metadata": {},
   "outputs": [
    {
     "name": "stderr",
     "output_type": "stream",
     "text": [
      "24/09/19 16:30:34 WARN Utils: Your hostname, Matthews-MacBook-Pro.local resolves to a loopback address: 127.0.0.1; using 192.168.15.118 instead (on interface en0)\n",
      "24/09/19 16:30:34 WARN Utils: Set SPARK_LOCAL_IP if you need to bind to another address\n",
      "Setting default log level to \"WARN\".\n",
      "To adjust logging level use sc.setLogLevel(newLevel). For SparkR, use setLogLevel(newLevel).\n",
      "24/09/19 16:30:34 WARN NativeCodeLoader: Unable to load native-hadoop library for your platform... using builtin-java classes where applicable\n"
     ]
    }
   ],
   "source": [
    "spark = SparkSession.builder.master(\"local\").appName(\"demo\").getOrCreate()"
   ]
  },
  {
   "cell_type": "code",
   "execution_count": 4,
   "id": "ad89f935-66b3-4d6f-89fb-79344b8055c9",
   "metadata": {},
   "outputs": [],
   "source": [
    "transactions = spark.createDataFrame([\n",
    "    (1, \"socks\", 1), \n",
    "    (2, \"chips\", 1),\n",
    "    (3, \"air conditioner\", None),\n",
    "    (4, \"tea\", None),\n",
    "], [\"transaction_id\", \"item_name\", \"user_id\"])"
   ]
  },
  {
   "cell_type": "code",
   "execution_count": 14,
   "id": "3d76c793-a787-41ef-ac9b-79bc284e6038",
   "metadata": {},
   "outputs": [
    {
     "name": "stdout",
     "output_type": "stream",
     "text": [
      "+--------------+---------------+-------+\n",
      "|transaction_id|      item_name|user_id|\n",
      "+--------------+---------------+-------+\n",
      "|             1|          socks|      1|\n",
      "|             2|          chips|      1|\n",
      "|             3|air conditioner|   NULL|\n",
      "|             4|            tea|   NULL|\n",
      "+--------------+---------------+-------+\n",
      "\n"
     ]
    }
   ],
   "source": [
    "transactions.show()"
   ]
  },
  {
   "cell_type": "code",
   "execution_count": 8,
   "id": "0c2adf4b-b1f8-45e9-bfc9-b55bb3fb7431",
   "metadata": {},
   "outputs": [],
   "source": [
    "users = spark.createDataFrame([\n",
    "    (1, \"Smith\"), \n",
    "    (2, \"Jones\"),\n",
    "    (None, \"UNKNOWN\"),\n",
    "], [\"user_id\", \"last_name\"])"
   ]
  },
  {
   "cell_type": "code",
   "execution_count": 15,
   "id": "d1823aa7-e3c5-4164-b6e8-4cf379a01a9b",
   "metadata": {},
   "outputs": [
    {
     "name": "stdout",
     "output_type": "stream",
     "text": [
      "+-------+---------+\n",
      "|user_id|last_name|\n",
      "+-------+---------+\n",
      "|      1|    Smith|\n",
      "|      2|    Jones|\n",
      "|   NULL|  UNKNOWN|\n",
      "+-------+---------+\n",
      "\n"
     ]
    }
   ],
   "source": [
    "users.show()"
   ]
  },
  {
   "cell_type": "code",
   "execution_count": 10,
   "id": "42895bb6-86cc-49ff-965b-bf0f697c1ee2",
   "metadata": {},
   "outputs": [
    {
     "name": "stdout",
     "output_type": "stream",
     "text": [
      "+--------------+---------+-------+-------+---------+\n",
      "|transaction_id|item_name|user_id|user_id|last_name|\n",
      "+--------------+---------+-------+-------+---------+\n",
      "|             1|    socks|      1|      1|    Smith|\n",
      "|             2|    chips|      1|      1|    Smith|\n",
      "+--------------+---------+-------+-------+---------+\n",
      "\n"
     ]
    }
   ],
   "source": [
    "transactions.join(\n",
    "    users, \n",
    "    transactions.user_id == users.user_id,\n",
    ").show()"
   ]
  },
  {
   "cell_type": "code",
   "execution_count": 13,
   "id": "113dc613-5c9c-42a6-8632-a140cc62144f",
   "metadata": {},
   "outputs": [
    {
     "name": "stdout",
     "output_type": "stream",
     "text": [
      "+--------------+---------------+-------+-------+---------+\n",
      "|transaction_id|      item_name|user_id|user_id|last_name|\n",
      "+--------------+---------------+-------+-------+---------+\n",
      "|             3|air conditioner|   NULL|   NULL|  UNKNOWN|\n",
      "|             4|            tea|   NULL|   NULL|  UNKNOWN|\n",
      "|             1|          socks|      1|      1|    Smith|\n",
      "|             2|          chips|      1|      1|    Smith|\n",
      "+--------------+---------------+-------+-------+---------+\n",
      "\n"
     ]
    }
   ],
   "source": [
    "transactions.join(\n",
    "    users, \n",
    "    transactions.user_id.eqNullSafe(users.user_id),\n",
    ").show()"
   ]
  },
  {
   "cell_type": "code",
   "execution_count": 16,
   "id": "6e081181-a571-47de-9ff7-e73d543a6240",
   "metadata": {},
   "outputs": [],
   "source": [
    "df = spark.createDataFrame([\n",
    "    (1, 1), \n",
    "    (2, 99),\n",
    "    (None, None),\n",
    "], [\"col_a\", \"col_b\"])"
   ]
  },
  {
   "cell_type": "code",
   "execution_count": 18,
   "id": "53b479ac-1fcd-49fc-b80e-0b8913294ae9",
   "metadata": {},
   "outputs": [
    {
     "name": "stdout",
     "output_type": "stream",
     "text": [
      "+-----+-----+-----+----------+\n",
      "|col_a|col_b|   ==|eqNullSafe|\n",
      "+-----+-----+-----+----------+\n",
      "|    1|    1| true|      true|\n",
      "|    2|   99|false|     false|\n",
      "| NULL| NULL| NULL|      true|\n",
      "+-----+-----+-----+----------+\n",
      "\n"
     ]
    }
   ],
   "source": [
    "df.withColumn(\"==\", df.col_a==df.col_b).withColumn(\"eqNullSafe\", df.col_a.eqNullSafe(df.col_b)).show()"
   ]
  },
  {
   "cell_type": "code",
   "execution_count": null,
   "id": "bf9d89f5-2096-4118-a31b-fcfb2dee9900",
   "metadata": {},
   "outputs": [],
   "source": []
  }
 ],
 "metadata": {
  "kernelspec": {
   "display_name": "pyspark-351",
   "language": "python",
   "name": "pyspark-351"
  },
  "language_info": {
   "codemirror_mode": {
    "name": "ipython",
    "version": 3
   },
   "file_extension": ".py",
   "mimetype": "text/x-python",
   "name": "python",
   "nbconvert_exporter": "python",
   "pygments_lexer": "ipython3",
   "version": "3.11.10"
  }
 },
 "nbformat": 4,
 "nbformat_minor": 5
}
