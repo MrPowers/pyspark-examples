{
 "cells": [
  {
   "cell_type": "markdown",
   "id": "d1ef26c1-b20b-421b-aacb-da7926b9343f",
   "metadata": {},
   "source": [
    "# Timestamp without timezone"
   ]
  },
  {
   "cell_type": "code",
   "execution_count": 1,
   "id": "8811f75c-7d15-48c3-8c63-c8ebfb3f1111",
   "metadata": {},
   "outputs": [],
   "source": [
    "import pyspark\n",
    "from pyspark.sql import SparkSession"
   ]
  },
  {
   "cell_type": "code",
   "execution_count": 2,
   "id": "88b9b597-a879-428d-92e6-5941afcacb55",
   "metadata": {},
   "outputs": [
    {
     "name": "stderr",
     "output_type": "stream",
     "text": [
      "Setting default log level to \"WARN\".\n",
      "To adjust logging level use sc.setLogLevel(newLevel). For SparkR, use setLogLevel(newLevel).\n",
      "23/07/31 10:10:03 WARN NativeCodeLoader: Unable to load native-hadoop library for your platform... using builtin-java classes where applicable\n",
      "23/07/31 10:10:04 WARN Utils: Service 'SparkUI' could not bind on port 4040. Attempting port 4041.\n"
     ]
    }
   ],
   "source": [
    "spark = SparkSession.builder.appName(\"demo\").getOrCreate()"
   ]
  },
  {
   "cell_type": "code",
   "execution_count": 3,
   "id": "5fe0f960-614b-4c89-8698-bfa381b934db",
   "metadata": {},
   "outputs": [
    {
     "data": {
      "text/plain": [
       "DataFrame[]"
      ]
     },
     "execution_count": 3,
     "metadata": {},
     "output_type": "execute_result"
    }
   ],
   "source": [
    "spark.sql(\n",
    "    \"\"\"\n",
    "CREATE TABLE some_numbers (c1 INT, c2 TIMESTAMP_NTZ) USING PARQUET\n",
    ";\"\"\"\n",
    ")"
   ]
  },
  {
   "cell_type": "code",
   "execution_count": 4,
   "id": "455fb89c-25b0-4e7f-9e99-dc6b3f48a39f",
   "metadata": {},
   "outputs": [
    {
     "name": "stderr",
     "output_type": "stream",
     "text": [
      "                                                                                \r"
     ]
    },
    {
     "data": {
      "text/plain": [
       "DataFrame[]"
      ]
     },
     "execution_count": 4,
     "metadata": {},
     "output_type": "execute_result"
    }
   ],
   "source": [
    "spark.sql(\n",
    "    \"\"\"\n",
    "INSERT INTO some_numbers VALUES\n",
    "  (1, TIMESTAMP_NTZ'2016-01-01 10:11:12.123456'),\n",
    "  (2, TIMESTAMP_NTZ'2018-06-12 10:11:12.123456')\n",
    ";\"\"\"\n",
    ")"
   ]
  },
  {
   "cell_type": "code",
   "execution_count": 8,
   "id": "28a89cf9-1aa1-40c9-a524-b73e7799cfbb",
   "metadata": {},
   "outputs": [
    {
     "name": "stdout",
     "output_type": "stream",
     "text": [
      "+---+--------------------------+\n",
      "|c1 |c2                        |\n",
      "+---+--------------------------+\n",
      "|1  |2016-01-01 10:11:12.123456|\n",
      "|2  |2018-06-12 10:11:12.123456|\n",
      "+---+--------------------------+\n",
      "\n"
     ]
    }
   ],
   "source": [
    "spark.sql(\"SELECT * FROM some_numbers;\").show(truncate=False)"
   ]
  },
  {
   "cell_type": "code",
   "execution_count": 10,
   "id": "265aa8f1-4c3a-4cca-87d3-bbada0168c60",
   "metadata": {},
   "outputs": [
    {
     "name": "stdout",
     "output_type": "stream",
     "text": [
      "+--------+-------------+-------+\n",
      "|col_name|    data_type|comment|\n",
      "+--------+-------------+-------+\n",
      "|      c1|          int|   null|\n",
      "|      c2|timestamp_ntz|   null|\n",
      "+--------+-------------+-------+\n",
      "\n"
     ]
    }
   ],
   "source": [
    "spark.sql(\"DESCRIBE some_numbers;\").show()"
   ]
  },
  {
   "cell_type": "code",
   "execution_count": null,
   "id": "01d4f1c6-4056-4e20-8721-6a701d2250ea",
   "metadata": {},
   "outputs": [],
   "source": []
  }
 ],
 "metadata": {
  "kernelspec": {
   "display_name": "pyspark-341",
   "language": "python",
   "name": "pyspark-341"
  },
  "language_info": {
   "codemirror_mode": {
    "name": "ipython",
    "version": 3
   },
   "file_extension": ".py",
   "mimetype": "text/x-python",
   "name": "python",
   "nbconvert_exporter": "python",
   "pygments_lexer": "ipython3",
   "version": "3.9.16"
  }
 },
 "nbformat": 4,
 "nbformat_minor": 5
}
