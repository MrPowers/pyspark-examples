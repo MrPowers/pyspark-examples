{
 "cells": [
  {
   "cell_type": "code",
   "execution_count": 1,
   "id": "5ca34dcf-da77-4ff1-b0e9-f3f768ae9274",
   "metadata": {
    "tags": []
   },
   "outputs": [],
   "source": [
    "import pyspark.sql.functions as F\n",
    "from pyspark.sql import SparkSession\n",
    "from pyspark.sql.types import *"
   ]
  },
  {
   "cell_type": "code",
   "execution_count": 2,
   "id": "bc98b18f-4a9f-46ad-b94a-4e776673c1f3",
   "metadata": {
    "tags": []
   },
   "outputs": [
    {
     "name": "stderr",
     "output_type": "stream",
     "text": [
      "Setting default log level to \"WARN\".\n",
      "To adjust logging level use sc.setLogLevel(newLevel). For SparkR, use setLogLevel(newLevel).\n"
     ]
    },
    {
     "name": "stdout",
     "output_type": "stream",
     "text": [
      "23/04/14 08:14:44 WARN NativeCodeLoader: Unable to load native-hadoop library for your platform... using builtin-java classes where applicable\n",
      "23/04/14 08:14:45 WARN Utils: Service 'SparkUI' could not bind on port 4040. Attempting port 4041.\n"
     ]
    }
   ],
   "source": [
    "spark = SparkSession.builder.master(\"local\").appName(\"examples\").getOrCreate()"
   ]
  },
  {
   "cell_type": "code",
   "execution_count": 3,
   "id": "05db811d-1c63-4653-a323-e4242aa30503",
   "metadata": {
    "tags": []
   },
   "outputs": [],
   "source": [
    "df = spark.createDataFrame(\n",
    "    [\n",
    "        (8, \"Liam\", 4),\n",
    "        (9, \"Colin\", 15),\n",
    "    ]\n",
    ").toDF(\"id\", \"first_name\", \"age\")"
   ]
  },
  {
   "cell_type": "code",
   "execution_count": 4,
   "id": "7ce79819-cdf3-4b98-85d9-2b5ff85b8471",
   "metadata": {
    "tags": []
   },
   "outputs": [],
   "source": [
    "def with_life_stage2(df, col_name):\n",
    "    col = F.col(col_name)\n",
    "    return df.withColumn(\n",
    "        \"life_stage\",\n",
    "        F.when(col < 13, \"child\")\n",
    "        .when(col.between(13, 19), \"teenager\")\n",
    "        .when(col > 19, \"adult\"),\n",
    "    )"
   ]
  },
  {
   "cell_type": "code",
   "execution_count": 7,
   "id": "8e017964-5ef1-4047-aaa8-0b7c7b376a0a",
   "metadata": {
    "tags": []
   },
   "outputs": [
    {
     "name": "stdout",
     "output_type": "stream",
     "text": [
      "+---+----------+---+----------+\n",
      "| id|first_name|age|life_stage|\n",
      "+---+----------+---+----------+\n",
      "|  8|      Liam|  4|     child|\n",
      "|  9|     Colin| 15|  teenager|\n",
      "+---+----------+---+----------+\n",
      "\n"
     ]
    }
   ],
   "source": [
    "df.transform(with_life_stage2, \"age\").show()"
   ]
  },
  {
   "cell_type": "code",
   "execution_count": null,
   "id": "d17a2995-d814-43fc-b67f-0ab457b4e2f1",
   "metadata": {},
   "outputs": [],
   "source": []
  }
 ],
 "metadata": {
  "kernelspec": {
   "display_name": "Python 3 (ipykernel)",
   "language": "python",
   "name": "python3"
  },
  "language_info": {
   "codemirror_mode": {
    "name": "ipython",
    "version": 3
   },
   "file_extension": ".py",
   "mimetype": "text/x-python",
   "name": "python",
   "nbconvert_exporter": "python",
   "pygments_lexer": "ipython3",
   "version": "3.9.16"
  }
 },
 "nbformat": 4,
 "nbformat_minor": 5
}
