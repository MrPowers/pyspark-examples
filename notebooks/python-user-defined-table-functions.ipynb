{
 "cells": [
  {
   "cell_type": "markdown",
   "id": "8b797288-8c12-4272-b87d-d31bef7b09c3",
   "metadata": {},
   "source": [
    "# Python User Defined Table Functions"
   ]
  },
  {
   "cell_type": "code",
   "execution_count": 1,
   "id": "d9ab9e63-cff5-4a8c-a9d0-d6bba290bf4b",
   "metadata": {},
   "outputs": [],
   "source": [
    "import pyspark\n",
    "from pyspark.sql import SparkSession\n",
    "import pyspark.sql.functions as F\n",
    "from pyspark.sql.functions import udtf"
   ]
  },
  {
   "cell_type": "code",
   "execution_count": 2,
   "id": "9c1ecbd4-6bba-4013-9b58-0b5ff64d5c9e",
   "metadata": {},
   "outputs": [
    {
     "name": "stderr",
     "output_type": "stream",
     "text": [
      "Setting default log level to \"WARN\".\n",
      "To adjust logging level use sc.setLogLevel(newLevel). For SparkR, use setLogLevel(newLevel).\n",
      "24/01/26 06:13:05 WARN NativeCodeLoader: Unable to load native-hadoop library for your platform... using builtin-java classes where applicable\n"
     ]
    }
   ],
   "source": [
    "spark = SparkSession.builder.getOrCreate()"
   ]
  },
  {
   "cell_type": "code",
   "execution_count": 3,
   "id": "e60e8b49-4893-4798-9469-599d65cc4dfe",
   "metadata": {},
   "outputs": [],
   "source": [
    "@udtf(returnType=\"num: int, squared: int\")\n",
    "class SquareNumbers:\n",
    "    def eval(self, start: int, end: int):\n",
    "        for num in range(start, end + 1):\n",
    "            yield (num, num * num)"
   ]
  },
  {
   "cell_type": "code",
   "execution_count": 4,
   "id": "70d0c13a-0b7e-4602-997b-23557b6e7470",
   "metadata": {},
   "outputs": [
    {
     "data": {
      "text/plain": [
       "<pyspark.sql.udtf.UserDefinedTableFunction at 0x10788f490>"
      ]
     },
     "execution_count": 4,
     "metadata": {},
     "output_type": "execute_result"
    }
   ],
   "source": [
    "spark.udtf.register(\"square_numbers\", SquareNumbers)"
   ]
  },
  {
   "cell_type": "code",
   "execution_count": 6,
   "id": "e976ba68-da4f-431e-981b-c32a155f97af",
   "metadata": {},
   "outputs": [
    {
     "name": "stdout",
     "output_type": "stream",
     "text": [
      "+---+-------+\n",
      "|num|squared|\n",
      "+---+-------+\n",
      "|  1|      1|\n",
      "|  2|      4|\n",
      "|  3|      9|\n",
      "|  4|     16|\n",
      "+---+-------+\n",
      "\n"
     ]
    }
   ],
   "source": [
    "spark.sql(\"SELECT * FROM square_numbers(1, 4)\").show()"
   ]
  },
  {
   "cell_type": "code",
   "execution_count": null,
   "id": "2d8b853e-6586-406f-bc60-b5cb2c7cad7a",
   "metadata": {},
   "outputs": [],
   "source": []
  }
 ],
 "metadata": {
  "kernelspec": {
   "display_name": "pyspark-350",
   "language": "python",
   "name": "pyspark-350"
  },
  "language_info": {
   "codemirror_mode": {
    "name": "ipython",
    "version": 3
   },
   "file_extension": ".py",
   "mimetype": "text/x-python",
   "name": "python",
   "nbconvert_exporter": "python",
   "pygments_lexer": "ipython3",
   "version": "3.9.18"
  }
 },
 "nbformat": 4,
 "nbformat_minor": 5
}
