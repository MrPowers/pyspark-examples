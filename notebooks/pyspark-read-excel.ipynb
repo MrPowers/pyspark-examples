{
 "cells": [
  {
   "cell_type": "markdown",
   "id": "ffd9a9b1-567a-40b2-98e2-42f26b35e652",
   "metadata": {},
   "source": [
    "# PySpark Read Excel"
   ]
  },
  {
   "cell_type": "code",
   "execution_count": 1,
   "id": "8e40cde0-c615-456f-a523-d72ae7bd28e6",
   "metadata": {},
   "outputs": [],
   "source": [
    "import os\n",
    "import sys\n",
    "os.environ['PYSPARK_PYTHON'] = sys.executable\n",
    "os.environ['PYSPARK_DRIVER_PYTHON'] = sys.executable"
   ]
  },
  {
   "cell_type": "code",
   "execution_count": 3,
   "id": "661d6dfa-af78-4ff4-95b3-07cd3c8fc59a",
   "metadata": {},
   "outputs": [
    {
     "name": "stderr",
     "output_type": "stream",
     "text": [
      "/opt/miniconda3/envs/pyspark-353/lib/python3.11/site-packages/pyspark/pandas/__init__.py:50: UserWarning: 'PYARROW_IGNORE_TIMEZONE' environment variable was not set. It is required to set this environment variable to '1' in both driver and executor sides if you use pyarrow>=2.0.0. pandas-on-Spark will set it for you but it does not work if there is a Spark context already launched.\n",
      "  warnings.warn(\n"
     ]
    }
   ],
   "source": [
    "import pyspark.pandas as ps"
   ]
  },
  {
   "cell_type": "code",
   "execution_count": 7,
   "id": "b7680254-2f83-4cca-ad52-58b53f712be0",
   "metadata": {},
   "outputs": [],
   "source": [
    "path = \"/Users/matthewpowers/Documents/cool_times.xlsx\""
   ]
  },
  {
   "cell_type": "code",
   "execution_count": 11,
   "id": "35926c56-9489-4e56-b685-65d9509f8d89",
   "metadata": {},
   "outputs": [
    {
     "name": "stderr",
     "output_type": "stream",
     "text": [
      "/opt/miniconda3/envs/pyspark-353/lib/python3.11/site-packages/pyspark/pandas/namespace.py:1147: FutureWarning: the 'mangle_dupe_cols' keyword is deprecated and will be removed in a future version. Please take steps to stop the use of 'mangle_dupe_cols'\n",
      "  return pd.read_excel(\n",
      "/opt/miniconda3/envs/pyspark-353/lib/python3.11/site-packages/pyspark/pandas/namespace.py:1147: FutureWarning: convert_float is deprecated and will be removed in a future version.\n",
      "  return pd.read_excel(\n",
      "/opt/miniconda3/envs/pyspark-353/lib/python3.11/site-packages/pyspark/pandas/namespace.py:1147: FutureWarning: The squeeze argument has been deprecated and will be removed in a future version. Append .squeeze(\"columns\") to the call to squeeze.\n",
      "\n",
      "\n",
      "  return pd.read_excel(\n"
     ]
    }
   ],
   "source": [
    "df = ps.read_excel(path, sheet_name=\"fun_stuff\")"
   ]
  },
  {
   "cell_type": "code",
   "execution_count": 10,
   "id": "19255c37-e2a5-48d8-8ac1-a876d90e87f9",
   "metadata": {},
   "outputs": [
    {
     "name": "stdout",
     "output_type": "stream",
     "text": [
      "  first_name  age\n",
      "0      laisa   27\n",
      "1      maria   24\n",
      "2       phil   38\n"
     ]
    }
   ],
   "source": [
    "print(df)"
   ]
  },
  {
   "cell_type": "code",
   "execution_count": null,
   "id": "c6269800-7d82-421a-8293-db419e6f073e",
   "metadata": {},
   "outputs": [],
   "source": []
  }
 ],
 "metadata": {
  "kernelspec": {
   "display_name": "pyspark-353",
   "language": "python",
   "name": "pyspark-353"
  },
  "language_info": {
   "codemirror_mode": {
    "name": "ipython",
    "version": 3
   },
   "file_extension": ".py",
   "mimetype": "text/x-python",
   "name": "python",
   "nbconvert_exporter": "python",
   "pygments_lexer": "ipython3",
   "version": "3.11.10"
  }
 },
 "nbformat": 4,
 "nbformat_minor": 5
}
