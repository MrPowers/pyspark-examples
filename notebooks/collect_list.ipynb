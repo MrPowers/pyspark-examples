{
 "cells": [
  {
   "cell_type": "markdown",
   "id": "57f34322-02f3-42eb-9ab8-e934ee2c3b03",
   "metadata": {},
   "source": [
    "# PySpark collect_list"
   ]
  },
  {
   "cell_type": "code",
   "execution_count": 2,
   "id": "b1dfc046-5829-478b-a8e3-aa3cecd86f0f",
   "metadata": {},
   "outputs": [],
   "source": [
    "import os\n",
    "import sys\n",
    "os.environ['PYSPARK_PYTHON'] = sys.executable\n",
    "os.environ['PYSPARK_DRIVER_PYTHON'] = sys.executable"
   ]
  },
  {
   "cell_type": "code",
   "execution_count": 10,
   "id": "d944c4ea-f04f-4f01-90bc-b930f38e4d32",
   "metadata": {},
   "outputs": [],
   "source": [
    "from pyspark.sql import SparkSession\n",
    "from pyspark.sql.functions import collect_list"
   ]
  },
  {
   "cell_type": "code",
   "execution_count": 4,
   "id": "50938a9a-c8ef-461f-b541-836287c43bba",
   "metadata": {},
   "outputs": [
    {
     "name": "stderr",
     "output_type": "stream",
     "text": [
      "24/10/16 13:46:42 WARN Utils: Your hostname, Matthews-MacBook-Pro.local resolves to a loopback address: 127.0.0.1; using 192.168.8.188 instead (on interface en0)\n",
      "24/10/16 13:46:42 WARN Utils: Set SPARK_LOCAL_IP if you need to bind to another address\n",
      "Setting default log level to \"WARN\".\n",
      "To adjust logging level use sc.setLogLevel(newLevel). For SparkR, use setLogLevel(newLevel).\n",
      "24/10/16 13:46:42 WARN NativeCodeLoader: Unable to load native-hadoop library for your platform... using builtin-java classes where applicable\n",
      "24/10/16 13:46:42 WARN Utils: Service 'SparkUI' could not bind on port 4040. Attempting port 4041.\n",
      "24/10/16 13:46:42 WARN Utils: Service 'SparkUI' could not bind on port 4041. Attempting port 4042.\n",
      "24/10/16 13:46:42 WARN Utils: Service 'SparkUI' could not bind on port 4042. Attempting port 4043.\n"
     ]
    }
   ],
   "source": [
    "spark = SparkSession.builder.getOrCreate()"
   ]
  },
  {
   "cell_type": "code",
   "execution_count": 7,
   "id": "be030b50-5e17-4cae-92b3-862b058685cf",
   "metadata": {},
   "outputs": [],
   "source": [
    "df = spark.createDataFrame([\n",
    "    (\"s1\", 67), \n",
    "    (\"s2\", 88),\n",
    "    (\"s1\", 94),\n",
    "    (\"s1\", 99),\n",
    "    (\"s2\", 65),\n",
    "    (\"s3\", 96),\n",
    "]).toDF(\"student_id\", \"test_score\")"
   ]
  },
  {
   "cell_type": "code",
   "execution_count": 8,
   "id": "2adb05e2-93b3-4244-a047-7c5e40791cdf",
   "metadata": {},
   "outputs": [
    {
     "name": "stdout",
     "output_type": "stream",
     "text": [
      "+----------+----------+\n",
      "|student_id|test_score|\n",
      "+----------+----------+\n",
      "|        s1|        67|\n",
      "|        s2|        88|\n",
      "|        s1|        94|\n",
      "|        s1|        99|\n",
      "|        s2|        65|\n",
      "|        s3|        96|\n",
      "+----------+----------+\n",
      "\n"
     ]
    }
   ],
   "source": [
    "df.show()"
   ]
  },
  {
   "cell_type": "code",
   "execution_count": 18,
   "id": "f79887b4-ef5e-4222-a7b2-b4eb08602e84",
   "metadata": {},
   "outputs": [
    {
     "name": "stdout",
     "output_type": "stream",
     "text": [
      "+----------+------------------------+\n",
      "|student_id|collect_list(test_score)|\n",
      "+----------+------------------------+\n",
      "|        s1|            [67, 94, 99]|\n",
      "|        s2|                [88, 65]|\n",
      "|        s3|                    [96]|\n",
      "+----------+------------------------+\n",
      "\n"
     ]
    }
   ],
   "source": [
    "df.groupBy(\"student_id\").agg(collect_list(df.test_score)).show()"
   ]
  },
  {
   "cell_type": "code",
   "execution_count": null,
   "id": "add9517f-6b5f-4056-9cb7-501fd552cc3c",
   "metadata": {},
   "outputs": [],
   "source": []
  }
 ],
 "metadata": {
  "kernelspec": {
   "display_name": "pyspark-351",
   "language": "python",
   "name": "pyspark-351"
  },
  "language_info": {
   "codemirror_mode": {
    "name": "ipython",
    "version": 3
   },
   "file_extension": ".py",
   "mimetype": "text/x-python",
   "name": "python",
   "nbconvert_exporter": "python",
   "pygments_lexer": "ipython3",
   "version": "3.11.10"
  }
 },
 "nbformat": 4,
 "nbformat_minor": 5
}
