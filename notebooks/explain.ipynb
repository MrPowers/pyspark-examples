{
 "cells": [
  {
   "cell_type": "markdown",
   "id": "c94147cf-7969-4aa7-8a03-0be94dac8837",
   "metadata": {},
   "source": [
    "# PySpark explain()"
   ]
  },
  {
   "cell_type": "code",
   "execution_count": 2,
   "id": "9181cf71-441e-41d7-87e3-03ce3f003a48",
   "metadata": {},
   "outputs": [],
   "source": [
    "import pyspark\n",
    "from pyspark.sql import SparkSession\n",
    "import pyspark.sql.functions as F\n",
    "import quinn\n",
    "from pyspark.sql.types import *"
   ]
  },
  {
   "cell_type": "code",
   "execution_count": 3,
   "id": "5fde085c-f3d5-45de-8ae6-788098d0bb63",
   "metadata": {},
   "outputs": [
    {
     "name": "stderr",
     "output_type": "stream",
     "text": [
      "Setting default log level to \"WARN\".\n",
      "To adjust logging level use sc.setLogLevel(newLevel). For SparkR, use setLogLevel(newLevel).\n",
      "24/05/06 12:33:05 WARN NativeCodeLoader: Unable to load native-hadoop library for your platform... using builtin-java classes where applicable\n"
     ]
    }
   ],
   "source": [
    "spark = SparkSession.builder.getOrCreate()"
   ]
  },
  {
   "cell_type": "code",
   "execution_count": 4,
   "id": "56763be0-dae2-48fd-94de-086647180a33",
   "metadata": {},
   "outputs": [],
   "source": [
    "df = spark.createDataFrame([(\"li\", 3), (\"chang\", 58), (\"carlos\", 34)]).toDF(\"first_name\", \"age\")"
   ]
  },
  {
   "cell_type": "code",
   "execution_count": 11,
   "id": "c232bab4-ea90-4592-bd55-fabf55c193d8",
   "metadata": {},
   "outputs": [
    {
     "name": "stdout",
     "output_type": "stream",
     "text": [
      "+----------+---+\n",
      "|first_name|age|\n",
      "+----------+---+\n",
      "|        li|  3|\n",
      "|     chang| 58|\n",
      "|    carlos| 34|\n",
      "+----------+---+\n",
      "\n"
     ]
    }
   ],
   "source": [
    "df.show()"
   ]
  },
  {
   "cell_type": "code",
   "execution_count": 6,
   "id": "a31a8b9b-b647-4f8c-968d-96cf9b629bd9",
   "metadata": {},
   "outputs": [
    {
     "name": "stderr",
     "output_type": "stream",
     "text": [
      "                                                                                \r"
     ]
    },
    {
     "name": "stdout",
     "output_type": "stream",
     "text": [
      "+----------+---+\n",
      "|first_name|age|\n",
      "+----------+---+\n",
      "|     chang| 58|\n",
      "|    carlos| 34|\n",
      "+----------+---+\n",
      "\n"
     ]
    }
   ],
   "source": [
    "from pyspark.sql.functions import col\n",
    "df.where(col(\"age\") > 30).show()"
   ]
  },
  {
   "cell_type": "code",
   "execution_count": 8,
   "id": "a0bf6b41-9f88-45da-a527-d72e5383329f",
   "metadata": {},
   "outputs": [
    {
     "name": "stdout",
     "output_type": "stream",
     "text": [
      "== Physical Plan ==\n",
      "*(1) Project [_1#0 AS first_name#4, _2#1L AS age#5L]\n",
      "+- *(1) Filter (isnotnull(_2#1L) AND (_2#1L > 30))\n",
      "   +- *(1) Scan ExistingRDD[_1#0,_2#1L]\n",
      "\n",
      "\n"
     ]
    }
   ],
   "source": [
    "df.where(col(\"age\") > 30).explain()"
   ]
  },
  {
   "cell_type": "code",
   "execution_count": 9,
   "id": "75f4bb64-0f04-4b59-a644-a0b5964c566c",
   "metadata": {},
   "outputs": [
    {
     "name": "stdout",
     "output_type": "stream",
     "text": [
      "+----------+---+\n",
      "|first_name|age|\n",
      "+----------+---+\n",
      "|     chang| 58|\n",
      "|    carlos| 34|\n",
      "+----------+---+\n",
      "\n"
     ]
    }
   ],
   "source": [
    "spark.sql(\"select * from {df} where age > 30\", df=df).show()"
   ]
  },
  {
   "cell_type": "code",
   "execution_count": 10,
   "id": "84acf515-d1cb-4592-b3cc-362f98921ea4",
   "metadata": {},
   "outputs": [
    {
     "name": "stdout",
     "output_type": "stream",
     "text": [
      "== Physical Plan ==\n",
      "*(1) Project [_1#0 AS first_name#4, _2#1L AS age#5L]\n",
      "+- *(1) Filter (isnotnull(_2#1L) AND (_2#1L > 30))\n",
      "   +- *(1) Scan ExistingRDD[_1#0,_2#1L]\n",
      "\n",
      "\n"
     ]
    }
   ],
   "source": [
    "spark.sql(\"select * from {df} where age > 30\", df=df).explain()"
   ]
  },
  {
   "cell_type": "code",
   "execution_count": 12,
   "id": "1ea1b03b-7d04-46a3-8dba-68d564abfc01",
   "metadata": {},
   "outputs": [
    {
     "name": "stdout",
     "output_type": "stream",
     "text": [
      "== Parsed Logical Plan ==\n",
      "'Project [*]\n",
      "+- 'Filter ('age > 30)\n",
      "   +- 'UnresolvedRelation [_pyspark_652a30c77ff64c31b9452248661ac88d], [], false\n",
      "\n",
      "== Analyzed Logical Plan ==\n",
      "first_name: string, age: bigint\n",
      "Project [first_name#4, age#5L]\n",
      "+- Filter (age#5L > cast(30 as bigint))\n",
      "   +- SubqueryAlias _pyspark_652a30c77ff64c31b9452248661ac88d\n",
      "      +- View (`_pyspark_652a30c77ff64c31b9452248661ac88d`, [first_name#4,age#5L])\n",
      "         +- Project [_1#0 AS first_name#4, _2#1L AS age#5L]\n",
      "            +- LogicalRDD [_1#0, _2#1L], false\n",
      "\n",
      "== Optimized Logical Plan ==\n",
      "Project [_1#0 AS first_name#4, _2#1L AS age#5L]\n",
      "+- Filter (isnotnull(_2#1L) AND (_2#1L > 30))\n",
      "   +- LogicalRDD [_1#0, _2#1L], false\n",
      "\n",
      "== Physical Plan ==\n",
      "*(1) Project [_1#0 AS first_name#4, _2#1L AS age#5L]\n",
      "+- *(1) Filter (isnotnull(_2#1L) AND (_2#1L > 30))\n",
      "   +- *(1) Scan ExistingRDD[_1#0,_2#1L]\n",
      "\n"
     ]
    }
   ],
   "source": [
    "spark.sql(\"select * from {df} where age > 30\", df=df).explain(True)"
   ]
  },
  {
   "cell_type": "code",
   "execution_count": null,
   "id": "a6a5ca46-e8f3-4750-88bb-af53bb01bd60",
   "metadata": {},
   "outputs": [],
   "source": []
  }
 ],
 "metadata": {
  "kernelspec": {
   "display_name": "pyspark-350",
   "language": "python",
   "name": "pyspark-350"
  },
  "language_info": {
   "codemirror_mode": {
    "name": "ipython",
    "version": 3
   },
   "file_extension": ".py",
   "mimetype": "text/x-python",
   "name": "python",
   "nbconvert_exporter": "python",
   "pygments_lexer": "ipython3",
   "version": "3.9.18"
  }
 },
 "nbformat": 4,
 "nbformat_minor": 5
}
