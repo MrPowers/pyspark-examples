{
 "cells": [
  {
   "cell_type": "markdown",
   "id": "5fbefe29-3036-4d89-9fae-55fcde45c945",
   "metadata": {},
   "source": [
    "# Quinn Funcions"
   ]
  },
  {
   "cell_type": "code",
   "execution_count": 1,
   "id": "f50023bc-c8d9-4a31-9990-a5565cadeced",
   "metadata": {},
   "outputs": [],
   "source": [
    "import os\n",
    "import sys\n",
    "os.environ['PYSPARK_PYTHON'] = sys.executable\n",
    "os.environ['PYSPARK_DRIVER_PYTHON'] = sys.executable"
   ]
  },
  {
   "cell_type": "code",
   "execution_count": 2,
   "id": "eaf197d0-3eb9-44fb-a25a-f0a557d3ca7b",
   "metadata": {},
   "outputs": [],
   "source": [
    "from pyspark.sql import SparkSession\n",
    "from pyspark.sql import Column\n",
    "from pyspark.sql.functions import col, trim, regexp_replace"
   ]
  },
  {
   "cell_type": "code",
   "execution_count": 3,
   "id": "7fcc2fad-9ab9-4569-8509-453f5eb82509",
   "metadata": {},
   "outputs": [
    {
     "name": "stderr",
     "output_type": "stream",
     "text": [
      "24/10/02 17:17:42 WARN Utils: Your hostname, Matthews-MacBook-Pro.local resolves to a loopback address: 127.0.0.1; using 192.168.15.118 instead (on interface en0)\n",
      "24/10/02 17:17:42 WARN Utils: Set SPARK_LOCAL_IP if you need to bind to another address\n",
      "Setting default log level to \"WARN\".\n",
      "To adjust logging level use sc.setLogLevel(newLevel). For SparkR, use setLogLevel(newLevel).\n",
      "24/10/02 17:17:43 WARN NativeCodeLoader: Unable to load native-hadoop library for your platform... using builtin-java classes where applicable\n",
      "----------------------------------------\n",
      "Exception occurred during processing of request from ('127.0.0.1', 59235)\n",
      "Traceback (most recent call last):\n",
      "  File \"/opt/miniconda3/envs/pyspark-351/lib/python3.11/socketserver.py\", line 317, in _handle_request_noblock\n",
      "    self.process_request(request, client_address)\n",
      "  File \"/opt/miniconda3/envs/pyspark-351/lib/python3.11/socketserver.py\", line 348, in process_request\n",
      "    self.finish_request(request, client_address)\n",
      "  File \"/opt/miniconda3/envs/pyspark-351/lib/python3.11/socketserver.py\", line 361, in finish_request\n",
      "    self.RequestHandlerClass(request, client_address, self)\n",
      "  File \"/opt/miniconda3/envs/pyspark-351/lib/python3.11/socketserver.py\", line 755, in __init__\n",
      "    self.handle()\n",
      "  File \"/opt/miniconda3/envs/pyspark-351/lib/python3.11/site-packages/pyspark/accumulators.py\", line 295, in handle\n",
      "    poll(accum_updates)\n",
      "  File \"/opt/miniconda3/envs/pyspark-351/lib/python3.11/site-packages/pyspark/accumulators.py\", line 267, in poll\n",
      "    if self.rfile in r and func():\n",
      "                           ^^^^^^\n",
      "  File \"/opt/miniconda3/envs/pyspark-351/lib/python3.11/site-packages/pyspark/accumulators.py\", line 271, in accum_updates\n",
      "    num_updates = read_int(self.rfile)\n",
      "                  ^^^^^^^^^^^^^^^^^^^^\n",
      "  File \"/opt/miniconda3/envs/pyspark-351/lib/python3.11/site-packages/pyspark/serializers.py\", line 596, in read_int\n",
      "    raise EOFError\n",
      "EOFError\n",
      "----------------------------------------\n"
     ]
    }
   ],
   "source": [
    "spark = SparkSession.builder.master(\"local\").appName(\"demo\").getOrCreate()\n",
    "spark.sparkContext.setLogLevel(\"ERROR\")"
   ]
  },
  {
   "cell_type": "markdown",
   "id": "6a45bc1d-1543-4b70-a97f-d302ee639fb6",
   "metadata": {},
   "source": [
    "## single_space"
   ]
  },
  {
   "cell_type": "code",
   "execution_count": 14,
   "id": "d0dc6c5c-1182-49b7-8211-4caa1a9c607e",
   "metadata": {},
   "outputs": [],
   "source": [
    "def single_space(col: Column) -> Column:\n",
    "    return trim(regexp_replace(col, \" +\", \" \"))"
   ]
  },
  {
   "cell_type": "code",
   "execution_count": 15,
   "id": "f543ad1d-9f8a-46e5-b271-6037edf7a23e",
   "metadata": {},
   "outputs": [],
   "source": [
    "df = spark.createDataFrame(\n",
    "    [\n",
    "        (\"  I like     fish  \",),\n",
    "        (\"    zombies\",),\n",
    "        (\"simpsons   cat lady\",),\n",
    "        (None,),\n",
    "    ], [\"words\"]\n",
    ")"
   ]
  },
  {
   "cell_type": "code",
   "execution_count": 16,
   "id": "398cd990-6811-415a-8d3d-833f1dc80710",
   "metadata": {},
   "outputs": [
    {
     "name": "stdout",
     "output_type": "stream",
     "text": [
      "+-------------------+\n",
      "|              words|\n",
      "+-------------------+\n",
      "|  I like     fish  |\n",
      "|            zombies|\n",
      "|simpsons   cat lady|\n",
      "|               NULL|\n",
      "+-------------------+\n",
      "\n"
     ]
    }
   ],
   "source": [
    "df.show()"
   ]
  },
  {
   "cell_type": "code",
   "execution_count": 17,
   "id": "3e96e75d-5bf0-4a01-93db-6f40b69a139a",
   "metadata": {},
   "outputs": [
    {
     "name": "stdout",
     "output_type": "stream",
     "text": [
      "+-------------------+-----------------+\n",
      "|              words|      clean_words|\n",
      "+-------------------+-----------------+\n",
      "|  I like     fish  |      I like fish|\n",
      "|            zombies|          zombies|\n",
      "|simpsons   cat lady|simpsons cat lady|\n",
      "|               NULL|             NULL|\n",
      "+-------------------+-----------------+\n",
      "\n"
     ]
    }
   ],
   "source": [
    "df.withColumn(\"clean_words\", single_space(col(\"words\"))).show()"
   ]
  },
  {
   "cell_type": "markdown",
   "id": "28068795-7b99-4c2d-a6d1-97626de98d2e",
   "metadata": {},
   "source": [
    "## Snake case column names"
   ]
  },
  {
   "cell_type": "code",
   "execution_count": 18,
   "id": "5fcf5f24-d720-4452-ab44-544a4ebea707",
   "metadata": {},
   "outputs": [],
   "source": [
    "def with_columns_renamed(fun):\n",
    "    def _(df):\n",
    "        cols = [col(f\"`{col_name}`\").alias(fun(col_name)) for col_name in df.columns]\n",
    "        return df.select(*cols)\n",
    "    return _"
   ]
  },
  {
   "cell_type": "code",
   "execution_count": 19,
   "id": "0c643c52-5a74-4c4a-a598-2616191ee246",
   "metadata": {},
   "outputs": [],
   "source": [
    "def snake_case_col_names(df):\n",
    "    return with_columns_renamed(lambda s: s.lower().replace(\" \", \"_\"))(df)"
   ]
  },
  {
   "cell_type": "code",
   "execution_count": 20,
   "id": "5d654cac-aac6-4e37-8e2c-a477b49e09de",
   "metadata": {},
   "outputs": [],
   "source": [
    "df = spark.createDataFrame(\n",
    "    [(\"jose\", \"a\"), (\"li\", \"b\"), (\"sam\", \"c\")],\n",
    "    [\"I like CHEESE\", \"YUMMMMY stuff\"]\n",
    ")"
   ]
  },
  {
   "cell_type": "code",
   "execution_count": 21,
   "id": "b0946061-bffc-4858-9538-ce4815b4e26c",
   "metadata": {},
   "outputs": [
    {
     "name": "stdout",
     "output_type": "stream",
     "text": [
      "+-------------+-------------+\n",
      "|I like CHEESE|YUMMMMY stuff|\n",
      "+-------------+-------------+\n",
      "|         jose|            a|\n",
      "|           li|            b|\n",
      "|          sam|            c|\n",
      "+-------------+-------------+\n",
      "\n"
     ]
    }
   ],
   "source": [
    "df.show()"
   ]
  },
  {
   "cell_type": "code",
   "execution_count": 22,
   "id": "8902734d-1d18-4819-b9aa-0d427bf3a196",
   "metadata": {},
   "outputs": [
    {
     "name": "stdout",
     "output_type": "stream",
     "text": [
      "+-------------+-------------+\n",
      "|i_like_cheese|yummmmy_stuff|\n",
      "+-------------+-------------+\n",
      "|         jose|            a|\n",
      "|           li|            b|\n",
      "|          sam|            c|\n",
      "+-------------+-------------+\n",
      "\n"
     ]
    }
   ],
   "source": [
    "snake_case_col_names(df).show()"
   ]
  },
  {
   "cell_type": "code",
   "execution_count": null,
   "id": "3b9c2fda-5f13-4f1f-b69e-6381a6da028a",
   "metadata": {},
   "outputs": [],
   "source": []
  }
 ],
 "metadata": {
  "kernelspec": {
   "display_name": "pyspark-351",
   "language": "python",
   "name": "pyspark-351"
  },
  "language_info": {
   "codemirror_mode": {
    "name": "ipython",
    "version": 3
   },
   "file_extension": ".py",
   "mimetype": "text/x-python",
   "name": "python",
   "nbconvert_exporter": "python",
   "pygments_lexer": "ipython3",
   "version": "3.11.10"
  }
 },
 "nbformat": 4,
 "nbformat_minor": 5
}
