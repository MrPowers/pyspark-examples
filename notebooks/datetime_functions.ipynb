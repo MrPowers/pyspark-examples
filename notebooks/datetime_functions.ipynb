{
 "cells": [
  {
   "cell_type": "markdown",
   "id": "cda52b83-4f38-4dce-84b9-c76c91ee032c",
   "metadata": {},
   "source": [
    "# PySpark datetime functions"
   ]
  },
  {
   "cell_type": "code",
   "execution_count": 1,
   "id": "de25cd11-9c05-4840-a073-6d71d7bfaf5d",
   "metadata": {},
   "outputs": [],
   "source": [
    "import os\n",
    "import sys\n",
    "os.environ['PYSPARK_PYTHON'] = sys.executable\n",
    "os.environ['PYSPARK_DRIVER_PYTHON'] = sys.executable"
   ]
  },
  {
   "cell_type": "code",
   "execution_count": 2,
   "id": "132f9863-60b7-430d-9cd3-3071b23b141e",
   "metadata": {},
   "outputs": [],
   "source": [
    "import pyspark\n",
    "from pyspark.sql import SparkSession\n",
    "import datetime"
   ]
  },
  {
   "cell_type": "code",
   "execution_count": 3,
   "id": "442e597a-490d-402b-9954-43a64bc06515",
   "metadata": {},
   "outputs": [
    {
     "name": "stderr",
     "output_type": "stream",
     "text": [
      "24/09/24 16:48:40 WARN Utils: Your hostname, Matthews-MacBook-Pro.local resolves to a loopback address: 127.0.0.1; using 192.168.15.118 instead (on interface en0)\n",
      "24/09/24 16:48:40 WARN Utils: Set SPARK_LOCAL_IP if you need to bind to another address\n",
      "Setting default log level to \"WARN\".\n",
      "To adjust logging level use sc.setLogLevel(newLevel). For SparkR, use setLogLevel(newLevel).\n",
      "24/09/24 16:48:40 WARN NativeCodeLoader: Unable to load native-hadoop library for your platform... using builtin-java classes where applicable\n",
      "24/09/24 16:48:40 WARN Utils: Service 'SparkUI' could not bind on port 4040. Attempting port 4041.\n",
      "24/09/24 16:48:40 WARN Utils: Service 'SparkUI' could not bind on port 4041. Attempting port 4042.\n",
      "----------------------------------------\n",
      "Exception occurred during processing of request from ('127.0.0.1', 63165)\n",
      "Traceback (most recent call last):\n",
      "  File \"/opt/miniconda3/envs/pyspark-351/lib/python3.11/socketserver.py\", line 317, in _handle_request_noblock\n",
      "    self.process_request(request, client_address)\n",
      "  File \"/opt/miniconda3/envs/pyspark-351/lib/python3.11/socketserver.py\", line 348, in process_request\n",
      "    self.finish_request(request, client_address)\n",
      "  File \"/opt/miniconda3/envs/pyspark-351/lib/python3.11/socketserver.py\", line 361, in finish_request\n",
      "    self.RequestHandlerClass(request, client_address, self)\n",
      "  File \"/opt/miniconda3/envs/pyspark-351/lib/python3.11/socketserver.py\", line 755, in __init__\n",
      "    self.handle()\n",
      "  File \"/opt/miniconda3/envs/pyspark-351/lib/python3.11/site-packages/pyspark/accumulators.py\", line 295, in handle\n",
      "    poll(accum_updates)\n",
      "  File \"/opt/miniconda3/envs/pyspark-351/lib/python3.11/site-packages/pyspark/accumulators.py\", line 267, in poll\n",
      "    if self.rfile in r and func():\n",
      "                           ^^^^^^\n",
      "  File \"/opt/miniconda3/envs/pyspark-351/lib/python3.11/site-packages/pyspark/accumulators.py\", line 271, in accum_updates\n",
      "    num_updates = read_int(self.rfile)\n",
      "                  ^^^^^^^^^^^^^^^^^^^^\n",
      "  File \"/opt/miniconda3/envs/pyspark-351/lib/python3.11/site-packages/pyspark/serializers.py\", line 596, in read_int\n",
      "    raise EOFError\n",
      "EOFError\n",
      "----------------------------------------\n"
     ]
    }
   ],
   "source": [
    "spark = SparkSession.builder.appName(\"demo\").getOrCreate()"
   ]
  },
  {
   "cell_type": "code",
   "execution_count": 4,
   "id": "726a0b21-5e41-4df8-811a-cd44ba4361be",
   "metadata": {},
   "outputs": [],
   "source": [
    "df = spark.createDataFrame(\n",
    "    [\n",
    "        (datetime.date(2020, 1, 20),),\n",
    "        (datetime.date(2021, 5, 17),),\n",
    "        (datetime.date(2024, 9, 3),),\n",
    "    ],\n",
    "    [\"the_date\"],\n",
    ")"
   ]
  },
  {
   "cell_type": "code",
   "execution_count": 5,
   "id": "a49b0901-7e22-4922-be53-c4b5446dffad",
   "metadata": {},
   "outputs": [
    {
     "name": "stderr",
     "output_type": "stream",
     "text": [
      "                                                                                \r"
     ]
    },
    {
     "name": "stdout",
     "output_type": "stream",
     "text": [
      "+----------+\n",
      "|  the_date|\n",
      "+----------+\n",
      "|2020-01-20|\n",
      "|2021-05-17|\n",
      "|2024-09-03|\n",
      "+----------+\n",
      "\n"
     ]
    }
   ],
   "source": [
    "df.show()"
   ]
  },
  {
   "cell_type": "code",
   "execution_count": 7,
   "id": "db684eaa-e67e-4297-8077-00586cae7000",
   "metadata": {},
   "outputs": [
    {
     "name": "stdout",
     "output_type": "stream",
     "text": [
      "+----------+-----------+----------+\n",
      "|  the_date|month_start| month_end|\n",
      "+----------+-----------+----------+\n",
      "|2020-01-20| 2020-01-01|2020-01-31|\n",
      "|2021-05-17| 2021-05-01|2021-05-31|\n",
      "|2024-09-03| 2024-09-01|2024-09-30|\n",
      "+----------+-----------+----------+\n",
      "\n"
     ]
    }
   ],
   "source": [
    "from pyspark.sql.functions import last_day, trunc\n",
    "\n",
    "(df\n",
    "  .withColumn(\"month_start\", trunc(df.the_date, \"month\"))\n",
    "  .withColumn(\"month_end\", last_day(df.the_date))\n",
    ").show()"
   ]
  },
  {
   "cell_type": "code",
   "execution_count": null,
   "id": "7903e28d-1a0a-4c16-b6eb-880a9ce9a3c6",
   "metadata": {},
   "outputs": [],
   "source": []
  }
 ],
 "metadata": {
  "kernelspec": {
   "display_name": "pyspark-351",
   "language": "python",
   "name": "pyspark-351"
  },
  "language_info": {
   "codemirror_mode": {
    "name": "ipython",
    "version": 3
   },
   "file_extension": ".py",
   "mimetype": "text/x-python",
   "name": "python",
   "nbconvert_exporter": "python",
   "pygments_lexer": "ipython3",
   "version": "3.11.10"
  }
 },
 "nbformat": 4,
 "nbformat_minor": 5
}
