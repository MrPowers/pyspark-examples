{
 "cells": [
  {
   "cell_type": "markdown",
   "id": "c63fb31b-0522-4cbb-8838-54ef3de0bf03",
   "metadata": {},
   "source": [
    "# PySpark Transformations and SQL"
   ]
  },
  {
   "cell_type": "code",
   "execution_count": 1,
   "id": "8b0b58f4-edd6-4a15-927f-4fe8f3d458ea",
   "metadata": {},
   "outputs": [],
   "source": [
    "from pathlib import Path\n",
    "\n",
    "import delta\n",
    "import pyspark\n",
    "import pyspark.sql.functions as F\n",
    "from delta import configure_spark_with_delta_pip"
   ]
  },
  {
   "cell_type": "code",
   "execution_count": 2,
   "id": "8b6ad4d0-0f07-4d36-bbff-b8087ca9d0ff",
   "metadata": {},
   "outputs": [
    {
     "name": "stdout",
     "output_type": "stream",
     "text": [
      ":: loading settings :: url = jar:file:/Users/matthew.powers/opt/miniconda3/envs/pyspark-350-delta-310/lib/python3.9/site-packages/pyspark/jars/ivy-2.5.1.jar!/org/apache/ivy/core/settings/ivysettings.xml\n"
     ]
    },
    {
     "name": "stderr",
     "output_type": "stream",
     "text": [
      "Ivy Default Cache set to: /Users/matthew.powers/.ivy2/cache\n",
      "The jars for the packages stored in: /Users/matthew.powers/.ivy2/jars\n",
      "io.delta#delta-spark_2.12 added as a dependency\n",
      ":: resolving dependencies :: org.apache.spark#spark-submit-parent-514772ca-8ebd-4811-b0c2-3990660a9428;1.0\n",
      "\tconfs: [default]\n",
      "\tfound io.delta#delta-spark_2.12;3.1.0 in central\n",
      "\tfound io.delta#delta-storage;3.1.0 in central\n",
      "\tfound org.antlr#antlr4-runtime;4.9.3 in central\n",
      ":: resolution report :: resolve 109ms :: artifacts dl 5ms\n",
      "\t:: modules in use:\n",
      "\tio.delta#delta-spark_2.12;3.1.0 from central in [default]\n",
      "\tio.delta#delta-storage;3.1.0 from central in [default]\n",
      "\torg.antlr#antlr4-runtime;4.9.3 from central in [default]\n",
      "\t---------------------------------------------------------------------\n",
      "\t|                  |            modules            ||   artifacts   |\n",
      "\t|       conf       | number| search|dwnlded|evicted|| number|dwnlded|\n",
      "\t---------------------------------------------------------------------\n",
      "\t|      default     |   3   |   0   |   0   |   0   ||   3   |   0   |\n",
      "\t---------------------------------------------------------------------\n",
      ":: retrieving :: org.apache.spark#spark-submit-parent-514772ca-8ebd-4811-b0c2-3990660a9428\n",
      "\tconfs: [default]\n",
      "\t0 artifacts copied, 3 already retrieved (0kB/3ms)\n",
      "24/04/15 13:30:36 WARN NativeCodeLoader: Unable to load native-hadoop library for your platform... using builtin-java classes where applicable\n",
      "Setting default log level to \"WARN\".\n",
      "To adjust logging level use sc.setLogLevel(newLevel). For SparkR, use setLogLevel(newLevel).\n"
     ]
    }
   ],
   "source": [
    "builder = (\n",
    "    pyspark.sql.SparkSession.builder.appName(\"MyApp\")\n",
    "    .config(\"spark.sql.extensions\", \"io.delta.sql.DeltaSparkSessionExtension\")\n",
    "    .config(\"spark.executor.memory\", \"10G\")\n",
    "    .config(\"spark.driver.memory\", \"25G\")\n",
    "    .config(\n",
    "        \"spark.sql.catalog.spark_catalog\",\n",
    "        \"org.apache.spark.sql.delta.catalog.DeltaCatalog\",\n",
    "    )\n",
    "    .config(\"spark.sql.shuffle.partitions\", \"2\")\n",
    ")\n",
    "\n",
    "spark = configure_spark_with_delta_pip(builder).getOrCreate()"
   ]
  },
  {
   "cell_type": "code",
   "execution_count": 3,
   "id": "d478feff-e590-47b2-9860-260ed5d0b8c4",
   "metadata": {},
   "outputs": [],
   "source": [
    "import quinn"
   ]
  },
  {
   "cell_type": "code",
   "execution_count": 27,
   "id": "c2d02501-a55b-4e7e-9d46-9080bfb72454",
   "metadata": {},
   "outputs": [],
   "source": [
    "df = (\n",
    "    spark.createDataFrame(\n",
    "        [(\"bob\", 30, \"canada\"), (\"carol\", 45, \"us\"), (\"sue\", 5, \"canada\")]\n",
    "    )\n",
    "    .toDF(\"First Name\", \"Person Age\", \"Country Of Origin\")\n",
    "    .select(\"Country Of Origin\", \"Person Age\", \"First Name\")\n",
    ")"
   ]
  },
  {
   "cell_type": "code",
   "execution_count": 28,
   "id": "80cb5c1b-450c-443c-a0c3-c6204bff429b",
   "metadata": {},
   "outputs": [
    {
     "name": "stdout",
     "output_type": "stream",
     "text": [
      "+-----------------+----------+----------+\n",
      "|Country Of Origin|Person Age|First Name|\n",
      "+-----------------+----------+----------+\n",
      "|           canada|        30|       bob|\n",
      "|               us|        45|     carol|\n",
      "|           canada|         5|       sue|\n",
      "+-----------------+----------+----------+\n",
      "\n"
     ]
    }
   ],
   "source": [
    "df.show()"
   ]
  },
  {
   "cell_type": "code",
   "execution_count": 29,
   "id": "aff91103-a8fd-4c50-bc4f-a5423ca41ce9",
   "metadata": {},
   "outputs": [
    {
     "name": "stdout",
     "output_type": "stream",
     "text": [
      "+-----------------+----------+----------+\n",
      "|country_of_origin|person_age|first_name|\n",
      "+-----------------+----------+----------+\n",
      "|           canada|         5|       sue|\n",
      "|           canada|        30|       bob|\n",
      "|               us|        45|     carol|\n",
      "+-----------------+----------+----------+\n",
      "\n"
     ]
    }
   ],
   "source": [
    "df = df.transform(quinn.snake_case_col_names)\n",
    "spark.sql(\"select * from {df} order by all\", df=df).show()"
   ]
  },
  {
   "cell_type": "code",
   "execution_count": null,
   "id": "5aeefbf7-543a-4a0a-bbd9-6d9856e17490",
   "metadata": {},
   "outputs": [],
   "source": []
  }
 ],
 "metadata": {
  "kernelspec": {
   "display_name": "pyspark-350-delta-310",
   "language": "python",
   "name": "pyspark-350-delta-310"
  },
  "language_info": {
   "codemirror_mode": {
    "name": "ipython",
    "version": 3
   },
   "file_extension": ".py",
   "mimetype": "text/x-python",
   "name": "python",
   "nbconvert_exporter": "python",
   "pygments_lexer": "ipython3",
   "version": "3.9.18"
  }
 },
 "nbformat": 4,
 "nbformat_minor": 5
}
