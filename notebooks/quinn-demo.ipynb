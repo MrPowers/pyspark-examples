{
 "cells": [
  {
   "cell_type": "markdown",
   "id": "ef787492-c753-4c7d-b923-64849f77aa8d",
   "metadata": {},
   "source": [
    "# Quinn Demo"
   ]
  },
  {
   "cell_type": "code",
   "execution_count": 4,
   "id": "60583d83-0356-4b4f-ac75-09577ca4c301",
   "metadata": {},
   "outputs": [],
   "source": [
    "import delta\n",
    "import pyspark\n",
    "import pyspark.sql.functions as F\n",
    "import quinn"
   ]
  },
  {
   "cell_type": "code",
   "execution_count": 5,
   "id": "d9bcdbd5-d73d-44ee-b641-a21d643733bc",
   "metadata": {},
   "outputs": [],
   "source": [
    "builder = (\n",
    "    pyspark.sql.SparkSession.builder.appName(\"MyApp\")\n",
    "    .config(\"spark.sql.extensions\", \"io.delta.sql.DeltaSparkSessionExtension\")\n",
    "    .config(\n",
    "        \"spark.sql.catalog.spark_catalog\",\n",
    "        \"org.apache.spark.sql.delta.catalog.DeltaCatalog\",\n",
    "    )\n",
    ")"
   ]
  },
  {
   "cell_type": "code",
   "execution_count": 6,
   "id": "69c7bf94-78cf-4d2e-9c5c-5fd39f163869",
   "metadata": {},
   "outputs": [
    {
     "name": "stdout",
     "output_type": "stream",
     "text": [
      ":: loading settings :: url = jar:file:/Users/matthew.powers/opt/miniconda3/envs/pyspark-everything/lib/python3.9/site-packages/pyspark/jars/ivy-2.5.0.jar!/org/apache/ivy/core/settings/ivysettings.xml\n"
     ]
    },
    {
     "name": "stderr",
     "output_type": "stream",
     "text": [
      "Ivy Default Cache set to: /Users/matthew.powers/.ivy2/cache\n",
      "The jars for the packages stored in: /Users/matthew.powers/.ivy2/jars\n",
      "io.delta#delta-core_2.12 added as a dependency\n",
      ":: resolving dependencies :: org.apache.spark#spark-submit-parent-7e829b15-adeb-41bd-aba0-c1cfaf657bdc;1.0\n",
      "\tconfs: [default]\n",
      "\tfound io.delta#delta-core_2.12;2.2.0 in central\n",
      "\tfound io.delta#delta-storage;2.2.0 in central\n",
      "\tfound org.antlr#antlr4-runtime;4.8 in central\n",
      "downloading https://repo1.maven.org/maven2/io/delta/delta-core_2.12/2.2.0/delta-core_2.12-2.2.0.jar ...\n",
      "\t[SUCCESSFUL ] io.delta#delta-core_2.12;2.2.0!delta-core_2.12.jar (928ms)\n",
      "downloading https://repo1.maven.org/maven2/io/delta/delta-storage/2.2.0/delta-storage-2.2.0.jar ...\n",
      "\t[SUCCESSFUL ] io.delta#delta-storage;2.2.0!delta-storage.jar (68ms)\n",
      ":: resolution report :: resolve 1299ms :: artifacts dl 1013ms\n",
      "\t:: modules in use:\n",
      "\tio.delta#delta-core_2.12;2.2.0 from central in [default]\n",
      "\tio.delta#delta-storage;2.2.0 from central in [default]\n",
      "\torg.antlr#antlr4-runtime;4.8 from central in [default]\n",
      "\t---------------------------------------------------------------------\n",
      "\t|                  |            modules            ||   artifacts   |\n",
      "\t|       conf       | number| search|dwnlded|evicted|| number|dwnlded|\n",
      "\t---------------------------------------------------------------------\n",
      "\t|      default     |   3   |   2   |   2   |   0   ||   3   |   2   |\n",
      "\t---------------------------------------------------------------------\n",
      ":: retrieving :: org.apache.spark#spark-submit-parent-7e829b15-adeb-41bd-aba0-c1cfaf657bdc\n",
      "\tconfs: [default]\n",
      "\t2 artifacts copied, 1 already retrieved (3398kB/12ms)\n"
     ]
    },
    {
     "name": "stdout",
     "output_type": "stream",
     "text": [
      "23/02/07 05:00:19 WARN NativeCodeLoader: Unable to load native-hadoop library for your platform... using builtin-java classes where applicable\n"
     ]
    },
    {
     "name": "stderr",
     "output_type": "stream",
     "text": [
      "Setting default log level to \"WARN\".\n",
      "To adjust logging level use sc.setLogLevel(newLevel). For SparkR, use setLogLevel(newLevel).\n"
     ]
    }
   ],
   "source": [
    "spark = delta.configure_spark_with_delta_pip(builder).getOrCreate()"
   ]
  },
  {
   "cell_type": "markdown",
   "id": "dad40a54-c3bf-4437-9b35-1976063875a0",
   "metadata": {},
   "source": [
    "## validate_presence_of_columns"
   ]
  },
  {
   "cell_type": "code",
   "execution_count": 8,
   "id": "c19f1e9c-6d8f-4314-a4d4-201e5002e505",
   "metadata": {},
   "outputs": [],
   "source": [
    "df = spark.createDataFrame([(\"bob\", 3), (\"sue\", 5)]).toDF(\"first_name\", \"age\")"
   ]
  },
  {
   "cell_type": "code",
   "execution_count": 9,
   "id": "c2dc933f-e1d1-45d6-8d2b-e6db26b4247e",
   "metadata": {},
   "outputs": [
    {
     "name": "stderr",
     "output_type": "stream",
     "text": [
      "                                                                                \r"
     ]
    },
    {
     "name": "stdout",
     "output_type": "stream",
     "text": [
      "+----------+---+\n",
      "|first_name|age|\n",
      "+----------+---+\n",
      "|       bob|  3|\n",
      "|       sue|  5|\n",
      "+----------+---+\n",
      "\n"
     ]
    }
   ],
   "source": [
    "df.show()"
   ]
  },
  {
   "cell_type": "code",
   "execution_count": 11,
   "id": "f8e8d5b0-6b55-419e-8de4-39d719dd5610",
   "metadata": {},
   "outputs": [],
   "source": [
    "quinn.validate_presence_of_columns(df, [\"first_name\", \"age\"])"
   ]
  },
  {
   "cell_type": "code",
   "execution_count": 12,
   "id": "c2cad1ea-f838-47a3-91ef-d00ef83f5c6a",
   "metadata": {},
   "outputs": [
    {
     "ename": "DataFrameMissingColumnError",
     "evalue": "The ['country'] columns are not included in the DataFrame with the following columns ['first_name', 'age']",
     "output_type": "error",
     "traceback": [
      "\u001b[0;31m---------------------------------------------------------------------------\u001b[0m",
      "\u001b[0;31mDataFrameMissingColumnError\u001b[0m               Traceback (most recent call last)",
      "Cell \u001b[0;32mIn[12], line 1\u001b[0m\n\u001b[0;32m----> 1\u001b[0m \u001b[43mquinn\u001b[49m\u001b[38;5;241;43m.\u001b[39;49m\u001b[43mvalidate_presence_of_columns\u001b[49m\u001b[43m(\u001b[49m\u001b[43mdf\u001b[49m\u001b[43m,\u001b[49m\u001b[43m \u001b[49m\u001b[43m[\u001b[49m\u001b[38;5;124;43m\"\u001b[39;49m\u001b[38;5;124;43mfirst_name\u001b[39;49m\u001b[38;5;124;43m\"\u001b[39;49m\u001b[43m,\u001b[49m\u001b[43m \u001b[49m\u001b[38;5;124;43m\"\u001b[39;49m\u001b[38;5;124;43mage\u001b[39;49m\u001b[38;5;124;43m\"\u001b[39;49m\u001b[43m,\u001b[49m\u001b[43m \u001b[49m\u001b[38;5;124;43m\"\u001b[39;49m\u001b[38;5;124;43mcountry\u001b[39;49m\u001b[38;5;124;43m\"\u001b[39;49m\u001b[43m]\u001b[49m\u001b[43m)\u001b[49m\n",
      "File \u001b[0;32m~/opt/miniconda3/envs/pyspark-everything/lib/python3.9/site-packages/quinn/dataframe_validator.py:21\u001b[0m, in \u001b[0;36mvalidate_presence_of_columns\u001b[0;34m(df, required_col_names)\u001b[0m\n\u001b[1;32m     16\u001b[0m error_message \u001b[38;5;241m=\u001b[39m \u001b[38;5;124m\"\u001b[39m\u001b[38;5;124mThe \u001b[39m\u001b[38;5;132;01m{missing_col_names}\u001b[39;00m\u001b[38;5;124m columns are not included in the DataFrame with the following columns \u001b[39m\u001b[38;5;132;01m{all_col_names}\u001b[39;00m\u001b[38;5;124m\"\u001b[39m\u001b[38;5;241m.\u001b[39mformat(\n\u001b[1;32m     17\u001b[0m     missing_col_names\u001b[38;5;241m=\u001b[39mmissing_col_names,\n\u001b[1;32m     18\u001b[0m     all_col_names\u001b[38;5;241m=\u001b[39mall_col_names\n\u001b[1;32m     19\u001b[0m )\n\u001b[1;32m     20\u001b[0m \u001b[38;5;28;01mif\u001b[39;00m missing_col_names:\n\u001b[0;32m---> 21\u001b[0m     \u001b[38;5;28;01mraise\u001b[39;00m DataFrameMissingColumnError(error_message)\n",
      "\u001b[0;31mDataFrameMissingColumnError\u001b[0m: The ['country'] columns are not included in the DataFrame with the following columns ['first_name', 'age']"
     ]
    }
   ],
   "source": [
    "quinn.validate_presence_of_columns(df, [\"first_name\", \"age\", \"country\"])"
   ]
  },
  {
   "cell_type": "markdown",
   "id": "cad53f63-4721-4e20-b3ce-85c7e4e6cd44",
   "metadata": {},
   "source": [
    "## validate_schema"
   ]
  },
  {
   "cell_type": "code",
   "execution_count": null,
   "id": "a63cfcfd-6dfa-4b40-a8f9-c11394e1c08e",
   "metadata": {},
   "outputs": [],
   "source": []
  }
 ],
 "metadata": {
  "kernelspec": {
   "display_name": "Python [conda env:pyspark-everything] *",
   "language": "python",
   "name": "conda-env-pyspark-everything-py"
  },
  "language_info": {
   "codemirror_mode": {
    "name": "ipython",
    "version": 3
   },
   "file_extension": ".py",
   "mimetype": "text/x-python",
   "name": "python",
   "nbconvert_exporter": "python",
   "pygments_lexer": "ipython3",
   "version": "3.9.16"
  }
 },
 "nbformat": 4,
 "nbformat_minor": 5
}
