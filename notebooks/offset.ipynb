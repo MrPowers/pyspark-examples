{
 "cells": [
  {
   "cell_type": "markdown",
   "id": "fc103a8a-b3c0-4cc4-a518-040a47976c94",
   "metadata": {},
   "source": [
    "## Spark OFFSET"
   ]
  },
  {
   "cell_type": "code",
   "execution_count": 1,
   "id": "16d0e461-7394-415a-8d4c-2f1379a6704c",
   "metadata": {},
   "outputs": [],
   "source": [
    "import pyspark\n",
    "from pyspark.sql import SparkSession"
   ]
  },
  {
   "cell_type": "code",
   "execution_count": 2,
   "id": "c887940e-14ef-4482-99d0-824c5be7a5c3",
   "metadata": {},
   "outputs": [
    {
     "name": "stderr",
     "output_type": "stream",
     "text": [
      "Setting default log level to \"WARN\".\n",
      "To adjust logging level use sc.setLogLevel(newLevel). For SparkR, use setLogLevel(newLevel).\n",
      "23/08/02 13:25:38 WARN NativeCodeLoader: Unable to load native-hadoop library for your platform... using builtin-java classes where applicable\n"
     ]
    }
   ],
   "source": [
    "spark = SparkSession.builder.appName(\"demo\").getOrCreate()"
   ]
  },
  {
   "cell_type": "code",
   "execution_count": 7,
   "id": "cf0ac8b1-8576-4acd-9e30-652ca7c6a240",
   "metadata": {},
   "outputs": [],
   "source": [
    "spark.range(5).createOrReplaceTempView(\"mydf\")"
   ]
  },
  {
   "cell_type": "code",
   "execution_count": 8,
   "id": "77df3c04-c6ec-42c4-a1b7-05be3b17aa64",
   "metadata": {},
   "outputs": [
    {
     "name": "stdout",
     "output_type": "stream",
     "text": [
      "+---+\n",
      "| id|\n",
      "+---+\n",
      "|  0|\n",
      "|  1|\n",
      "|  2|\n",
      "|  3|\n",
      "|  4|\n",
      "+---+\n",
      "\n"
     ]
    }
   ],
   "source": [
    "spark.sql(\"SELECT * FROM mydf\").show()"
   ]
  },
  {
   "cell_type": "code",
   "execution_count": 9,
   "id": "7e6151cb-9ec3-41ca-86be-ed725a55a706",
   "metadata": {},
   "outputs": [
    {
     "name": "stdout",
     "output_type": "stream",
     "text": [
      "+---+\n",
      "| id|\n",
      "+---+\n",
      "|  4|\n",
      "|  3|\n",
      "|  2|\n",
      "+---+\n",
      "\n"
     ]
    }
   ],
   "source": [
    "spark.sql(\"SELECT id FROM mydf ORDER BY id DESC LIMIT 3\").show()"
   ]
  },
  {
   "cell_type": "code",
   "execution_count": 10,
   "id": "91ac7f04-6b59-4ff3-b708-f875d7660a35",
   "metadata": {},
   "outputs": [
    {
     "name": "stdout",
     "output_type": "stream",
     "text": [
      "+---+\n",
      "| id|\n",
      "+---+\n",
      "|  2|\n",
      "|  1|\n",
      "|  0|\n",
      "+---+\n",
      "\n"
     ]
    }
   ],
   "source": [
    "spark.sql(\"SELECT id FROM mydf ORDER BY id DESC LIMIT 3 OFFSET 2\").show()"
   ]
  },
  {
   "cell_type": "code",
   "execution_count": 12,
   "id": "c36d2e3e-8220-42d6-9153-8310c9713fbc",
   "metadata": {},
   "outputs": [],
   "source": [
    "from pyspark.sql.functions import lag"
   ]
  },
  {
   "cell_type": "code",
   "execution_count": 13,
   "id": "7284f40d-24fc-49d3-ace2-53688962af6f",
   "metadata": {},
   "outputs": [],
   "source": [
    "df = spark.range(5)"
   ]
  },
  {
   "cell_type": "code",
   "execution_count": null,
   "id": "95ec2342-2ef4-47f1-882f-50bd3dbf9bfb",
   "metadata": {},
   "outputs": [],
   "source": [
    "lag(col, offset=1, default=None)"
   ]
  }
 ],
 "metadata": {
  "kernelspec": {
   "display_name": "pyspark-341",
   "language": "python",
   "name": "pyspark-341"
  },
  "language_info": {
   "codemirror_mode": {
    "name": "ipython",
    "version": 3
   },
   "file_extension": ".py",
   "mimetype": "text/x-python",
   "name": "python",
   "nbconvert_exporter": "python",
   "pygments_lexer": "ipython3",
   "version": "3.9.16"
  }
 },
 "nbformat": 4,
 "nbformat_minor": 5
}
