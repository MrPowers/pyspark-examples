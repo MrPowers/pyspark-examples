{
 "cells": [
  {
   "cell_type": "markdown",
   "id": "7c6dd2bf-4173-4199-ae08-d3423feef136",
   "metadata": {},
   "source": [
    "# PySpark create tables"
   ]
  },
  {
   "cell_type": "code",
   "execution_count": 1,
   "id": "9a0043e2-5474-4935-bf2c-974be87b296f",
   "metadata": {},
   "outputs": [],
   "source": [
    "import os\n",
    "import sys\n",
    "os.environ['PYSPARK_PYTHON'] = sys.executable\n",
    "os.environ['PYSPARK_DRIVER_PYTHON'] = sys.executable"
   ]
  },
  {
   "cell_type": "code",
   "execution_count": 2,
   "id": "0a2dd3b9-a7a3-442b-974b-f3a850a8bd88",
   "metadata": {},
   "outputs": [],
   "source": [
    "from pyspark.sql import SparkSession"
   ]
  },
  {
   "cell_type": "code",
   "execution_count": 4,
   "id": "b4115b66-bbcd-44bc-93e8-799482302435",
   "metadata": {},
   "outputs": [],
   "source": [
    "spark = SparkSession.builder.master(\"local\").appName(\"demo\").getOrCreate()\n",
    "spark.sparkContext.setLogLevel(\"ERROR\")"
   ]
  },
  {
   "cell_type": "markdown",
   "id": "8ec5e062-9a8a-43f0-91a0-aa6e91266869",
   "metadata": {},
   "source": [
    "## Create managed tables"
   ]
  },
  {
   "cell_type": "code",
   "execution_count": 5,
   "id": "8067e763-7ec7-4750-82b3-2c51ed50e14b",
   "metadata": {},
   "outputs": [],
   "source": [
    "df = spark.createDataFrame([\n",
    "    (1, \"socks\"), \n",
    "    (2, \"chips\"),\n",
    "    (3, \"air conditioner\"),\n",
    "    (4, \"tea\"),\n",
    "], [\"transaction_id\", \"item_name\"])"
   ]
  },
  {
   "cell_type": "code",
   "execution_count": 6,
   "id": "41942f45-80cd-44a1-a01f-18fcb728c212",
   "metadata": {},
   "outputs": [
    {
     "name": "stderr",
     "output_type": "stream",
     "text": [
      "                                                                                \r"
     ]
    }
   ],
   "source": [
    "df.write.format(\"parquet\").saveAsTable(\"transactions\")"
   ]
  },
  {
   "cell_type": "code",
   "execution_count": 7,
   "id": "22dfb0b2-6218-4c08-aba7-8146b59f7de2",
   "metadata": {},
   "outputs": [
    {
     "name": "stdout",
     "output_type": "stream",
     "text": [
      "+--------------+---------------+\n",
      "|transaction_id|      item_name|\n",
      "+--------------+---------------+\n",
      "|             1|          socks|\n",
      "|             2|          chips|\n",
      "|             3|air conditioner|\n",
      "|             4|            tea|\n",
      "+--------------+---------------+\n",
      "\n"
     ]
    }
   ],
   "source": [
    "spark.table(\"transactions\").show()"
   ]
  },
  {
   "cell_type": "code",
   "execution_count": 9,
   "id": "3ab4e11a-8733-47b7-8d96-079054c3e3ed",
   "metadata": {},
   "outputs": [],
   "source": [
    "voided = spark.createDataFrame([(1,), (4,)], [\"transaction_id\"])"
   ]
  },
  {
   "cell_type": "code",
   "execution_count": 10,
   "id": "a9638d22-555c-4ec5-b9c3-26f3389b2b83",
   "metadata": {},
   "outputs": [
    {
     "name": "stdout",
     "output_type": "stream",
     "text": [
      "+--------------+\n",
      "|transaction_id|\n",
      "+--------------+\n",
      "|             1|\n",
      "|             4|\n",
      "+--------------+\n",
      "\n"
     ]
    }
   ],
   "source": [
    "voided.show()"
   ]
  },
  {
   "cell_type": "code",
   "execution_count": 11,
   "id": "b3680b6a-c458-4c20-a26a-de0d4d980a46",
   "metadata": {},
   "outputs": [],
   "source": [
    "voided.write.format(\"parquet\").save(\"voided\")"
   ]
  },
  {
   "cell_type": "markdown",
   "id": "054ba666-b9dd-47de-957d-bbe90e0db024",
   "metadata": {},
   "source": [
    "### join the datasets"
   ]
  },
  {
   "cell_type": "code",
   "execution_count": 12,
   "id": "c3acbdc6-fa57-4887-a7c9-9eb6c045d9e1",
   "metadata": {},
   "outputs": [
    {
     "name": "stdout",
     "output_type": "stream",
     "text": [
      "+--------------+---------------+\n",
      "|transaction_id|      item_name|\n",
      "+--------------+---------------+\n",
      "|             2|          chips|\n",
      "|             3|air conditioner|\n",
      "+--------------+---------------+\n",
      "\n"
     ]
    }
   ],
   "source": [
    "transactions = spark.read.parquet(\"transactions\")\n",
    "voided = spark.read.parquet(\"voided\")\n",
    "\n",
    "transactions.join(\n",
    "    voided, \n",
    "    transactions.transaction_id == voided.transaction_id, \n",
    "    \"leftanti\"\n",
    ").show()"
   ]
  },
  {
   "cell_type": "markdown",
   "id": "91f5c716-617a-45fb-83fe-9ca2fb0c4150",
   "metadata": {},
   "source": [
    "## Create unmanaged tables"
   ]
  },
  {
   "cell_type": "code",
   "execution_count": 17,
   "id": "da21d7bb-feb2-401b-86ef-77719e757ae6",
   "metadata": {},
   "outputs": [],
   "source": [
    "letters = spark.createDataFrame([\n",
    "    (1, \"a\"), \n",
    "    (2, \"b\"),\n",
    "    (3, \"c\"),\n",
    "], [\"id\", \"letter\"])"
   ]
  },
  {
   "cell_type": "code",
   "execution_count": 21,
   "id": "b9906e2b-630b-4e17-acd1-00ab7741a067",
   "metadata": {},
   "outputs": [],
   "source": [
    "letters.write.format(\"parquet\").saveAsTable(\"letters\", path=\"/tmp/letters\")"
   ]
  },
  {
   "cell_type": "code",
   "execution_count": null,
   "id": "f6f204a5-c3e7-422b-ac29-c334cf530387",
   "metadata": {},
   "outputs": [],
   "source": []
  },
  {
   "cell_type": "code",
   "execution_count": null,
   "id": "11ee8ea3-91e9-4433-8e6d-76bf5df11705",
   "metadata": {},
   "outputs": [],
   "source": []
  },
  {
   "cell_type": "code",
   "execution_count": null,
   "id": "fb9198c8-563c-45b2-b09d-45cb2760e4c2",
   "metadata": {},
   "outputs": [],
   "source": []
  },
  {
   "cell_type": "markdown",
   "id": "13c8e183-ad05-4628-a88f-8f7e90a4923d",
   "metadata": {},
   "source": [
    "## Create managed volumes"
   ]
  },
  {
   "cell_type": "code",
   "execution_count": null,
   "id": "37975810-b05a-4654-96f1-99ff20dd1fa2",
   "metadata": {},
   "outputs": [],
   "source": []
  },
  {
   "cell_type": "code",
   "execution_count": null,
   "id": "7f39c891-6c72-4ca2-b0ff-e3fec833c62b",
   "metadata": {},
   "outputs": [],
   "source": []
  },
  {
   "cell_type": "code",
   "execution_count": null,
   "id": "7bb8ee8f-d860-42e9-88aa-0ac2308ab456",
   "metadata": {},
   "outputs": [],
   "source": []
  },
  {
   "cell_type": "markdown",
   "id": "b3fde413-fea5-43a0-924b-44acb5d0fcae",
   "metadata": {},
   "source": [
    "## Write data to path"
   ]
  },
  {
   "cell_type": "code",
   "execution_count": 22,
   "id": "e4cf1870-c07d-48ea-9523-f8e60f407cd0",
   "metadata": {},
   "outputs": [],
   "source": [
    "people = spark.createDataFrame([\n",
    "    (1, \"li\"), \n",
    "    (2, \"chung\"),\n",
    "], [\"id\", \"first_name\"])"
   ]
  },
  {
   "cell_type": "code",
   "execution_count": 23,
   "id": "55064d52-bb88-4238-b4f5-464490a1e80d",
   "metadata": {},
   "outputs": [],
   "source": [
    "people.write.format(\"parquet\").save(\"/tmp/people\")"
   ]
  },
  {
   "cell_type": "code",
   "execution_count": 24,
   "id": "81ce5111-b284-431b-8c8c-1825346898b3",
   "metadata": {},
   "outputs": [],
   "source": [
    "people = spark.read.format(\"parquet\").load(\"/tmp/people\")"
   ]
  },
  {
   "cell_type": "code",
   "execution_count": 25,
   "id": "0362c349-3797-461c-a068-9b4431524631",
   "metadata": {},
   "outputs": [
    {
     "name": "stdout",
     "output_type": "stream",
     "text": [
      "+---+----------+\n",
      "| id|first_name|\n",
      "+---+----------+\n",
      "|  1|        li|\n",
      "|  2|     chung|\n",
      "+---+----------+\n",
      "\n"
     ]
    }
   ],
   "source": [
    "people.show()"
   ]
  },
  {
   "cell_type": "code",
   "execution_count": null,
   "id": "b201dacf-6ccd-4ff4-92cf-55bedb262d4f",
   "metadata": {},
   "outputs": [],
   "source": [
    "countries = spark.read.format(\"csv\").load(\"/tmp/countries\")"
   ]
  }
 ],
 "metadata": {
  "kernelspec": {
   "display_name": "pyspark-351",
   "language": "python",
   "name": "pyspark-351"
  },
  "language_info": {
   "codemirror_mode": {
    "name": "ipython",
    "version": 3
   },
   "file_extension": ".py",
   "mimetype": "text/x-python",
   "name": "python",
   "nbconvert_exporter": "python",
   "pygments_lexer": "ipython3",
   "version": "3.11.10"
  }
 },
 "nbformat": 4,
 "nbformat_minor": 5
}
