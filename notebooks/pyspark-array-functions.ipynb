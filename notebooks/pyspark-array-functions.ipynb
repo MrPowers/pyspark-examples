{
 "cells": [
  {
   "cell_type": "markdown",
   "id": "acf1a9e0-2178-4f44-9c33-c95c2638583b",
   "metadata": {},
   "source": [
    "# PySpark Array Functions"
   ]
  },
  {
   "cell_type": "code",
   "execution_count": 3,
   "id": "a31aa9c7-9068-4f70-ae73-bbe5de41fd42",
   "metadata": {},
   "outputs": [],
   "source": [
    "from pyspark.sql import SparkSession"
   ]
  },
  {
   "cell_type": "code",
   "execution_count": 4,
   "id": "09fd5e75-2399-4cc8-a10d-3fb1165d38b9",
   "metadata": {},
   "outputs": [
    {
     "name": "stderr",
     "output_type": "stream",
     "text": [
      "Setting default log level to \"WARN\".\n",
      "To adjust logging level use sc.setLogLevel(newLevel). For SparkR, use setLogLevel(newLevel).\n",
      "24/03/22 14:08:43 WARN NativeCodeLoader: Unable to load native-hadoop library for your platform... using builtin-java classes where applicable\n",
      "24/03/22 14:08:43 WARN Utils: Service 'SparkUI' could not bind on port 4040. Attempting port 4041.\n"
     ]
    }
   ],
   "source": [
    "spark = SparkSession.builder.getOrCreate()"
   ]
  },
  {
   "cell_type": "code",
   "execution_count": 5,
   "id": "9e602d5e-05e6-4bea-9f37-739bca3aae3b",
   "metadata": {},
   "outputs": [],
   "source": [
    "df = spark.createDataFrame([(1, [1, None, 3]), (2, [None, None, 4])]).toDF(\"id\", \"nums\")"
   ]
  },
  {
   "cell_type": "code",
   "execution_count": 6,
   "id": "b2d29c84-bbe2-44f6-8881-a6c9af655468",
   "metadata": {},
   "outputs": [
    {
     "name": "stderr",
     "output_type": "stream",
     "text": [
      "                                                                                \r"
     ]
    },
    {
     "name": "stdout",
     "output_type": "stream",
     "text": [
      "+---+---------------+\n",
      "| id|           nums|\n",
      "+---+---------------+\n",
      "|  1|   [1, NULL, 3]|\n",
      "|  2|[NULL, NULL, 4]|\n",
      "+---+---------------+\n",
      "\n"
     ]
    }
   ],
   "source": [
    "df.show()"
   ]
  },
  {
   "cell_type": "code",
   "execution_count": 7,
   "id": "758e4cc4-00fa-4b8a-a739-175a2ac10266",
   "metadata": {},
   "outputs": [
    {
     "name": "stdout",
     "output_type": "stream",
     "text": [
      "+---+------+\n",
      "| id|  nums|\n",
      "+---+------+\n",
      "|  1|[1, 3]|\n",
      "|  2|   [4]|\n",
      "+---+------+\n",
      "\n"
     ]
    }
   ],
   "source": [
    "from pyspark.sql.functions import array_compact\n",
    "\n",
    "df.withColumn(\"nums\", array_c ompact(\"nums\")).show()"
   ]
  },
  {
   "cell_type": "code",
   "execution_count": null,
   "id": "b2f24eaf-9d11-4953-8f88-7bd9843cee30",
   "metadata": {},
   "outputs": [],
   "source": []
  }
 ],
 "metadata": {
  "kernelspec": {
   "display_name": "pyspark-350",
   "language": "python",
   "name": "pyspark-350"
  },
  "language_info": {
   "codemirror_mode": {
    "name": "ipython",
    "version": 3
   },
   "file_extension": ".py",
   "mimetype": "text/x-python",
   "name": "python",
   "nbconvert_exporter": "python",
   "pygments_lexer": "ipython3",
   "version": "3.9.18"
  }
 },
 "nbformat": 4,
 "nbformat_minor": 5
}
