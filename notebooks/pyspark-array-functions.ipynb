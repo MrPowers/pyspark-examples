{
 "cells": [
  {
   "cell_type": "markdown",
   "id": "acf1a9e0-2178-4f44-9c33-c95c2638583b",
   "metadata": {},
   "source": [
    "# PySpark Array Functions"
   ]
  },
  {
   "cell_type": "code",
   "execution_count": 1,
   "id": "3cba8068-2590-4ed8-99b8-b15138097a4e",
   "metadata": {},
   "outputs": [],
   "source": [
    "import os\n",
    "import sys\n",
    "os.environ['PYSPARK_PYTHON'] = sys.executable\n",
    "os.environ['PYSPARK_DRIVER_PYTHON'] = sys.executable"
   ]
  },
  {
   "cell_type": "code",
   "execution_count": 2,
   "id": "a31aa9c7-9068-4f70-ae73-bbe5de41fd42",
   "metadata": {},
   "outputs": [],
   "source": [
    "from pyspark.sql import SparkSession"
   ]
  },
  {
   "cell_type": "code",
   "execution_count": 3,
   "id": "09fd5e75-2399-4cc8-a10d-3fb1165d38b9",
   "metadata": {},
   "outputs": [
    {
     "name": "stderr",
     "output_type": "stream",
     "text": [
      "24/10/15 13:35:55 WARN Utils: Your hostname, Matthews-MacBook-Pro.local resolves to a loopback address: 127.0.0.1; using 192.168.8.188 instead (on interface en0)\n",
      "24/10/15 13:35:55 WARN Utils: Set SPARK_LOCAL_IP if you need to bind to another address\n",
      "Setting default log level to \"WARN\".\n",
      "To adjust logging level use sc.setLogLevel(newLevel). For SparkR, use setLogLevel(newLevel).\n",
      "24/10/15 13:35:55 WARN NativeCodeLoader: Unable to load native-hadoop library for your platform... using builtin-java classes where applicable\n",
      "24/10/15 13:35:55 WARN Utils: Service 'SparkUI' could not bind on port 4040. Attempting port 4041.\n",
      "24/10/15 13:35:55 WARN Utils: Service 'SparkUI' could not bind on port 4041. Attempting port 4042.\n",
      "24/10/15 13:35:55 WARN Utils: Service 'SparkUI' could not bind on port 4042. Attempting port 4043.\n",
      "----------------------------------------\n",
      "Exception occurred during processing of request from ('127.0.0.1', 54771)\n",
      "Traceback (most recent call last):\n",
      "  File \"/opt/miniconda3/envs/pyspark-350/lib/python3.11/socketserver.py\", line 317, in _handle_request_noblock\n",
      "    self.process_request(request, client_address)\n",
      "  File \"/opt/miniconda3/envs/pyspark-350/lib/python3.11/socketserver.py\", line 348, in process_request\n",
      "    self.finish_request(request, client_address)\n",
      "  File \"/opt/miniconda3/envs/pyspark-350/lib/python3.11/socketserver.py\", line 361, in finish_request\n",
      "    self.RequestHandlerClass(request, client_address, self)\n",
      "  File \"/opt/miniconda3/envs/pyspark-350/lib/python3.11/socketserver.py\", line 755, in __init__\n",
      "    self.handle()\n",
      "  File \"/opt/miniconda3/envs/pyspark-350/lib/python3.11/site-packages/pyspark/accumulators.py\", line 295, in handle\n",
      "    poll(accum_updates)\n",
      "  File \"/opt/miniconda3/envs/pyspark-350/lib/python3.11/site-packages/pyspark/accumulators.py\", line 267, in poll\n",
      "    if self.rfile in r and func():\n",
      "                           ^^^^^^\n",
      "  File \"/opt/miniconda3/envs/pyspark-350/lib/python3.11/site-packages/pyspark/accumulators.py\", line 271, in accum_updates\n",
      "    num_updates = read_int(self.rfile)\n",
      "                  ^^^^^^^^^^^^^^^^^^^^\n",
      "  File \"/opt/miniconda3/envs/pyspark-350/lib/python3.11/site-packages/pyspark/serializers.py\", line 596, in read_int\n",
      "    raise EOFError\n",
      "EOFError\n",
      "----------------------------------------\n"
     ]
    }
   ],
   "source": [
    "spark = SparkSession.builder.getOrCreate()"
   ]
  },
  {
   "cell_type": "markdown",
   "id": "72f9ba8a-731b-4b18-9a41-d6f2c308d905",
   "metadata": {},
   "source": [
    "## array_compact"
   ]
  },
  {
   "cell_type": "code",
   "execution_count": 4,
   "id": "9e602d5e-05e6-4bea-9f37-739bca3aae3b",
   "metadata": {},
   "outputs": [],
   "source": [
    "df = spark.createDataFrame([(1, [1, None, 3]), (2, [None, None, 4])]).toDF(\"id\", \"nums\")"
   ]
  },
  {
   "cell_type": "code",
   "execution_count": 5,
   "id": "b2d29c84-bbe2-44f6-8881-a6c9af655468",
   "metadata": {},
   "outputs": [
    {
     "name": "stderr",
     "output_type": "stream",
     "text": [
      "                                                                                \r"
     ]
    },
    {
     "name": "stdout",
     "output_type": "stream",
     "text": [
      "+---+---------------+\n",
      "| id|           nums|\n",
      "+---+---------------+\n",
      "|  1|   [1, NULL, 3]|\n",
      "|  2|[NULL, NULL, 4]|\n",
      "+---+---------------+\n",
      "\n"
     ]
    }
   ],
   "source": [
    "df.show()"
   ]
  },
  {
   "cell_type": "code",
   "execution_count": 6,
   "id": "758e4cc4-00fa-4b8a-a739-175a2ac10266",
   "metadata": {},
   "outputs": [
    {
     "name": "stdout",
     "output_type": "stream",
     "text": [
      "+---+------+\n",
      "| id|  nums|\n",
      "+---+------+\n",
      "|  1|[1, 3]|\n",
      "|  2|   [4]|\n",
      "+---+------+\n",
      "\n"
     ]
    }
   ],
   "source": [
    "from pyspark.sql.functions import array_compact\n",
    "\n",
    "df.withColumn(\"nums\", array_compact(\"nums\")).show()"
   ]
  },
  {
   "cell_type": "markdown",
   "id": "61b28a7f-7400-4a15-9a0c-dba277fb3d59",
   "metadata": {},
   "source": [
    "## union and intersect"
   ]
  },
  {
   "cell_type": "code",
   "execution_count": 14,
   "id": "74f0df25-31a6-427b-8785-fb00de335bda",
   "metadata": {},
   "outputs": [],
   "source": [
    "df = spark.createDataFrame(\n",
    "    [\n",
    "        ([\"a\", \"a\", \"b\", \"c\"], [\"a\", \"d\"]),\n",
    "        ([\"x\", \"y\"], [\"i\", \"j\"]),\n",
    "    ], [\"arr1\", \"arr2\"]\n",
    ")"
   ]
  },
  {
   "cell_type": "code",
   "execution_count": 15,
   "id": "6be2d5ec-c149-48e1-b8c3-91e1a26f0daa",
   "metadata": {},
   "outputs": [
    {
     "name": "stdout",
     "output_type": "stream",
     "text": [
      "+------------+------+\n",
      "|        arr1|  arr2|\n",
      "+------------+------+\n",
      "|[a, a, b, c]|[a, d]|\n",
      "|      [x, y]|[i, j]|\n",
      "+------------+------+\n",
      "\n"
     ]
    }
   ],
   "source": [
    "df.show()"
   ]
  },
  {
   "cell_type": "code",
   "execution_count": 16,
   "id": "08b1907e-25e8-4907-a4e1-f9e47fac7976",
   "metadata": {},
   "outputs": [
    {
     "name": "stdout",
     "output_type": "stream",
     "text": [
      "+------------+------+------------+-------------+\n",
      "|        arr1|  arr2|   arr_union|arr_intersect|\n",
      "+------------+------+------------+-------------+\n",
      "|[a, a, b, c]|[a, d]|[a, b, c, d]|          [a]|\n",
      "|      [x, y]|[i, j]|[x, y, i, j]|           []|\n",
      "+------------+------+------------+-------------+\n",
      "\n"
     ]
    }
   ],
   "source": [
    "from pyspark.sql.functions import array_union, array_intersect\n",
    "\n",
    "df.withColumns({\n",
    "    \"arr_union\": array_union(df.arr1, df.arr2), \n",
    "    \"arr_intersect\": array_intersect(df.arr1, df.arr2)\n",
    "}).show()"
   ]
  },
  {
   "cell_type": "code",
   "execution_count": null,
   "id": "7ff475ff-bddf-43c6-bf95-946f6deb47fb",
   "metadata": {},
   "outputs": [],
   "source": []
  }
 ],
 "metadata": {
  "kernelspec": {
   "display_name": "pyspark-350",
   "language": "python",
   "name": "pyspark-350"
  },
  "language_info": {
   "codemirror_mode": {
    "name": "ipython",
    "version": 3
   },
   "file_extension": ".py",
   "mimetype": "text/x-python",
   "name": "python",
   "nbconvert_exporter": "python",
   "pygments_lexer": "ipython3",
   "version": "3.11.10"
  }
 },
 "nbformat": 4,
 "nbformat_minor": 5
}
