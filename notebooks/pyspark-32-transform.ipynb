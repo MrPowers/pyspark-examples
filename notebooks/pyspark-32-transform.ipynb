{
 "cells": [
  {
   "cell_type": "code",
   "execution_count": 4,
   "id": "daeab5c7-3f5c-42de-9612-c736dc8fbacd",
   "metadata": {
    "tags": []
   },
   "outputs": [],
   "source": [
    "import pyspark.sql.functions as F\n",
    "from pyspark.sql import SparkSession\n",
    "from pyspark.sql.types import *"
   ]
  },
  {
   "cell_type": "code",
   "execution_count": 5,
   "id": "86d57d2d-17f1-485f-adcc-1fafb60be174",
   "metadata": {
    "tags": []
   },
   "outputs": [
    {
     "name": "stderr",
     "output_type": "stream",
     "text": [
      "Using Spark's default log4j profile: org/apache/spark/log4j-defaults.properties\n",
      "Setting default log level to \"WARN\".\n",
      "To adjust logging level use sc.setLogLevel(newLevel). For SparkR, use setLogLevel(newLevel).\n",
      "23/04/14 08:09:01 WARN NativeCodeLoader: Unable to load native-hadoop library for your platform... using builtin-java classes where applicable\n"
     ]
    }
   ],
   "source": [
    "spark = SparkSession.builder.master(\"local\").appName(\"examples\").getOrCreate()"
   ]
  },
  {
   "cell_type": "code",
   "execution_count": 6,
   "id": "f1f30eaa-9f17-4eff-afc3-b762673ab62d",
   "metadata": {
    "tags": []
   },
   "outputs": [],
   "source": [
    "df = spark.createDataFrame(\n",
    "    [\n",
    "        (8, \"Liam\", 4),\n",
    "        (9, \"Colin\", 15),\n",
    "    ]\n",
    ").toDF(\"id\", \"first_name\", \"age\")"
   ]
  },
  {
   "cell_type": "code",
   "execution_count": 9,
   "id": "9211cab1-c6d6-4889-b64f-62a44ff530f0",
   "metadata": {
    "tags": []
   },
   "outputs": [],
   "source": [
    "def with_life_stage(col_name):\n",
    "    def _(df):\n",
    "        col = F.col(col_name)\n",
    "        return df.withColumn(\n",
    "            \"life_stage\",\n",
    "            F.when(col < 13, \"child\")\n",
    "            .when(col.between(13, 19), \"teenager\")\n",
    "            .when(col > 19, \"adult\"),\n",
    "        )\n",
    "\n",
    "    return _"
   ]
  },
  {
   "cell_type": "code",
   "execution_count": 11,
   "id": "a51b0e92-95d7-46a9-969a-440d60167a04",
   "metadata": {
    "tags": []
   },
   "outputs": [
    {
     "name": "stdout",
     "output_type": "stream",
     "text": [
      "+---+----------+---+----------+\n",
      "| id|first_name|age|life_stage|\n",
      "+---+----------+---+----------+\n",
      "|  8|      Liam|  4|     child|\n",
      "|  9|     Colin| 15|  teenager|\n",
      "+---+----------+---+----------+\n",
      "\n"
     ]
    },
    {
     "name": "stderr",
     "output_type": "stream",
     "text": [
      "                                                                                \r"
     ]
    }
   ],
   "source": [
    "df.transform(with_life_stage(\"age\")).show()"
   ]
  },
  {
   "cell_type": "markdown",
   "id": "b5f3aa00-c87e-4fa3-982d-53a144233c12",
   "metadata": {},
   "source": [
    "## This syntax only works in PySpark 3.3+"
   ]
  },
  {
   "cell_type": "code",
   "execution_count": 7,
   "id": "01d1d524-0588-4b56-81e8-abf0c393dc51",
   "metadata": {
    "tags": []
   },
   "outputs": [],
   "source": [
    "def with_life_stage2(df, col_name):\n",
    "    col = F.col(col_name)\n",
    "    return df.withColumn(\n",
    "        \"life_stage\",\n",
    "        F.when(col < 13, \"child\")\n",
    "        .when(col.between(13, 19), \"teenager\")\n",
    "        .when(col > 19, \"adult\"),\n",
    "    )"
   ]
  },
  {
   "cell_type": "code",
   "execution_count": 12,
   "id": "377ec940-c6be-4926-81c7-255eeacf3bb1",
   "metadata": {
    "tags": []
   },
   "outputs": [
    {
     "ename": "TypeError",
     "evalue": "transform() takes 2 positional arguments but 3 were given",
     "output_type": "error",
     "traceback": [
      "\u001b[0;31m---------------------------------------------------------------------------\u001b[0m",
      "\u001b[0;31mTypeError\u001b[0m                                 Traceback (most recent call last)",
      "Cell \u001b[0;32mIn[12], line 1\u001b[0m\n\u001b[0;32m----> 1\u001b[0m \u001b[43mdf\u001b[49m\u001b[38;5;241;43m.\u001b[39;49m\u001b[43mtransform\u001b[49m\u001b[43m(\u001b[49m\u001b[43mwith_life_stage2\u001b[49m\u001b[43m,\u001b[49m\u001b[43m \u001b[49m\u001b[38;5;124;43m\"\u001b[39;49m\u001b[38;5;124;43mage\u001b[39;49m\u001b[38;5;124;43m\"\u001b[39;49m\u001b[43m)\u001b[49m\u001b[38;5;241m.\u001b[39mshow()\n",
      "\u001b[0;31mTypeError\u001b[0m: transform() takes 2 positional arguments but 3 were given"
     ]
    }
   ],
   "source": [
    "df.transform(with_life_stage2, \"age\").show()"
   ]
  },
  {
   "cell_type": "code",
   "execution_count": null,
   "id": "6d3097c5-bf9a-4592-b523-643cae739877",
   "metadata": {},
   "outputs": [],
   "source": [
    "newAddressesToInsert = (\n",
    "    updatesDF.alias(\"updates\")\n",
    "    .join(customersTable.toDF().alias(\"customers\"), \"customerid\")\n",
    "    .where(\"customers.current = true AND updates.address <> customers.address\")\n",
    ")"
   ]
  },
  {
   "cell_type": "code",
   "execution_count": null,
   "id": "9d6ad644-e20f-4e2b-aad7-9048b493e8bf",
   "metadata": {},
   "outputs": [],
   "source": []
  }
 ],
 "metadata": {
  "kernelspec": {
   "display_name": "Python 3 (ipykernel)",
   "language": "python",
   "name": "python3"
  },
  "language_info": {
   "codemirror_mode": {
    "name": "ipython",
    "version": 3
   },
   "file_extension": ".py",
   "mimetype": "text/x-python",
   "name": "python",
   "nbconvert_exporter": "python",
   "pygments_lexer": "ipython3",
   "version": "3.9.16"
  }
 },
 "nbformat": 4,
 "nbformat_minor": 5
}
