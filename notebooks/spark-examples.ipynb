{
 "cells": [
  {
   "cell_type": "markdown",
   "id": "dff5984a-0f3e-436d-9982-28225fe785d6",
   "metadata": {},
   "source": [
    "# Spark Examples"
   ]
  },
  {
   "cell_type": "code",
   "execution_count": 1,
   "id": "c803e943-c2a1-4c5e-840f-9d9738140dff",
   "metadata": {},
   "outputs": [],
   "source": [
    "from pyspark.sql import SparkSession\n",
    "from pyspark.sql.functions import avg, col, when"
   ]
  },
  {
   "cell_type": "code",
   "execution_count": 2,
   "id": "2f716ca9-b79f-40f2-987b-394ee1377f53",
   "metadata": {},
   "outputs": [
    {
     "name": "stderr",
     "output_type": "stream",
     "text": [
      "Setting default log level to \"WARN\".\n",
      "To adjust logging level use sc.setLogLevel(newLevel). For SparkR, use setLogLevel(newLevel).\n",
      "23/12/13 08:20:09 WARN NativeCodeLoader: Unable to load native-hadoop library for your platform... using builtin-java classes where applicable\n"
     ]
    }
   ],
   "source": [
    "spark = SparkSession.builder.appName(\"demo\").getOrCreate()"
   ]
  },
  {
   "cell_type": "markdown",
   "id": "2f1d50da-2842-4da0-8301-63db9adf6183",
   "metadata": {},
   "source": [
    "## Simple Spark DataFrame example"
   ]
  },
  {
   "cell_type": "code",
   "execution_count": 5,
   "id": "9a6740f9-f26c-48ab-aa3a-6be145d10e13",
   "metadata": {},
   "outputs": [],
   "source": [
    "df = spark.createDataFrame(\n",
    "    [\n",
    "        (\"sue\", 32),\n",
    "        (\"li\", 3),\n",
    "        (\"bob\", 75),\n",
    "        (\"heo\", 13),\n",
    "    ],\n",
    "    [\"first_name\", \"age\"],\n",
    ")"
   ]
  },
  {
   "cell_type": "code",
   "execution_count": 6,
   "id": "e1eaa1fa-b173-440e-9613-975788e823a3",
   "metadata": {},
   "outputs": [
    {
     "name": "stderr",
     "output_type": "stream",
     "text": [
      "[Stage 0:>                                                          (0 + 1) / 1]\r"
     ]
    },
    {
     "name": "stdout",
     "output_type": "stream",
     "text": [
      "+----------+---+\n",
      "|first_name|age|\n",
      "+----------+---+\n",
      "|       sue| 32|\n",
      "|        li|  3|\n",
      "|       bob| 75|\n",
      "|       heo| 13|\n",
      "+----------+---+\n",
      "\n"
     ]
    },
    {
     "name": "stderr",
     "output_type": "stream",
     "text": [
      "                                                                                \r"
     ]
    }
   ],
   "source": [
    "df.show()"
   ]
  },
  {
   "cell_type": "code",
   "execution_count": 31,
   "id": "0ea2b89d-acce-423a-96a4-8ab0811bf1e2",
   "metadata": {},
   "outputs": [],
   "source": [
    "df1 = df.withColumn(\n",
    "    \"life_stage\",\n",
    "    when(col(\"age\") < 13, \"child\")\n",
    "    .when(col(\"age\").between(13, 19), \"teenager\")\n",
    "    .otherwise(\"adult\"),\n",
    ")"
   ]
  },
  {
   "cell_type": "code",
   "execution_count": 32,
   "id": "054539a9-37f1-4f0e-a3f8-70c2fc08fe3f",
   "metadata": {
    "scrolled": true
   },
   "outputs": [
    {
     "name": "stdout",
     "output_type": "stream",
     "text": [
      "+----------+---+----------+\n",
      "|first_name|age|life_stage|\n",
      "+----------+---+----------+\n",
      "|       sue| 32|     adult|\n",
      "|        li|  3|     child|\n",
      "|       bob| 75|     adult|\n",
      "|       heo| 13|  teenager|\n",
      "+----------+---+----------+\n",
      "\n"
     ]
    }
   ],
   "source": [
    "df1.show()"
   ]
  },
  {
   "cell_type": "code",
   "execution_count": 33,
   "id": "215d57f9-c5e3-4f95-9c44-65add6d6a95c",
   "metadata": {},
   "outputs": [
    {
     "name": "stdout",
     "output_type": "stream",
     "text": [
      "+----------+---+\n",
      "|first_name|age|\n",
      "+----------+---+\n",
      "|       sue| 32|\n",
      "|        li|  3|\n",
      "|       bob| 75|\n",
      "|       heo| 13|\n",
      "+----------+---+\n",
      "\n"
     ]
    }
   ],
   "source": [
    "df.show()"
   ]
  },
  {
   "cell_type": "code",
   "execution_count": 65,
   "id": "95e7b6e1-71f6-4114-ae87-1241159fb9dc",
   "metadata": {},
   "outputs": [],
   "source": [
    "def with_life_stage(df):\n",
    "    return df.withColumn(\n",
    "        \"life_stage\",\n",
    "        when(col(\"age\") < 13, \"child\")\n",
    "        .when(col(\"age\") >= 13 | col(\"age\") < 20, \"teenager\")\n",
    "        .when(col(\"age\") > 20, \"adult\"),\n",
    "    )"
   ]
  },
  {
   "cell_type": "code",
   "execution_count": 35,
   "id": "7c1b1334-0796-4788-a353-966a4c93420a",
   "metadata": {},
   "outputs": [
    {
     "name": "stdout",
     "output_type": "stream",
     "text": [
      "+----------+---+----------+\n",
      "|first_name|age|life_stage|\n",
      "+----------+---+----------+\n",
      "|       sue| 32|     adult|\n",
      "|        li|  3|     child|\n",
      "|       bob| 75|     adult|\n",
      "|       heo| 13|  teenager|\n",
      "+----------+---+----------+\n",
      "\n"
     ]
    }
   ],
   "source": [
    "df.transform(with_life_stage).show()"
   ]
  },
  {
   "cell_type": "code",
   "execution_count": 37,
   "id": "a5f35882-a18a-4dd4-86f1-91801318c311",
   "metadata": {},
   "outputs": [
    {
     "name": "stdout",
     "output_type": "stream",
     "text": [
      "+----------+---+----------+\n",
      "|first_name|age|life_stage|\n",
      "+----------+---+----------+\n",
      "|       sue| 32|     adult|\n",
      "|       bob| 75|     adult|\n",
      "|       heo| 13|  teenager|\n",
      "+----------+---+----------+\n",
      "\n"
     ]
    }
   ],
   "source": [
    "df1.where(col(\"life_stage\").isin([\"teenager\", \"adult\"])).show()"
   ]
  },
  {
   "cell_type": "code",
   "execution_count": 40,
   "id": "4b71a9bb-c2fa-4e2d-a25a-72cbcd753e51",
   "metadata": {},
   "outputs": [
    {
     "name": "stdout",
     "output_type": "stream",
     "text": [
      "+--------+\n",
      "|avg(age)|\n",
      "+--------+\n",
      "|   30.75|\n",
      "+--------+\n",
      "\n"
     ]
    }
   ],
   "source": [
    "df1.select(avg(\"age\")).show()"
   ]
  },
  {
   "cell_type": "code",
   "execution_count": 41,
   "id": "3aa94631-81e5-48db-a11d-1006167dbe89",
   "metadata": {},
   "outputs": [
    {
     "name": "stdout",
     "output_type": "stream",
     "text": [
      "+----------+--------+\n",
      "|life_stage|avg(age)|\n",
      "+----------+--------+\n",
      "|     adult|    53.5|\n",
      "|     child|     3.0|\n",
      "|  teenager|    13.0|\n",
      "+----------+--------+\n",
      "\n"
     ]
    }
   ],
   "source": [
    "df1.groupBy(\"life_stage\").avg().show()"
   ]
  },
  {
   "cell_type": "code",
   "execution_count": 46,
   "id": "c2664903-b2dc-4d86-9f7a-c0900dd3810a",
   "metadata": {},
   "outputs": [
    {
     "name": "stdout",
     "output_type": "stream",
     "text": [
      "+--------+\n",
      "|avg(age)|\n",
      "+--------+\n",
      "|   30.75|\n",
      "+--------+\n",
      "\n"
     ]
    }
   ],
   "source": [
    "spark.sql(\"select avg(age) from {df1}\", df1=df1).show()"
   ]
  },
  {
   "cell_type": "code",
   "execution_count": 47,
   "id": "b2c6901a-0b8c-495f-a7e4-a189fca30760",
   "metadata": {},
   "outputs": [
    {
     "name": "stdout",
     "output_type": "stream",
     "text": [
      "+----------+--------+\n",
      "|life_stage|avg(age)|\n",
      "+----------+--------+\n",
      "|     adult|    53.5|\n",
      "|     child|     3.0|\n",
      "|  teenager|    13.0|\n",
      "+----------+--------+\n",
      "\n"
     ]
    }
   ],
   "source": [
    "spark.sql(\"select life_stage, avg(age) from {df1} group by life_stage\", df1=df1).show()"
   ]
  },
  {
   "cell_type": "code",
   "execution_count": 48,
   "id": "00401dd9-cc14-4a80-ae1e-d6e2dda62e44",
   "metadata": {},
   "outputs": [
    {
     "name": "stderr",
     "output_type": "stream",
     "text": [
      "                                                                                \r"
     ]
    }
   ],
   "source": [
    "df1.write.saveAsTable(\"some_people\")"
   ]
  },
  {
   "cell_type": "code",
   "execution_count": 50,
   "id": "bcea9adc-4201-4631-aa9a-1e5445122511",
   "metadata": {},
   "outputs": [
    {
     "name": "stdout",
     "output_type": "stream",
     "text": [
      "+----------+---+----------+\n",
      "|first_name|age|life_stage|\n",
      "+----------+---+----------+\n",
      "|       heo| 13|  teenager|\n",
      "|       sue| 32|     adult|\n",
      "|       bob| 75|     adult|\n",
      "|        li|  3|     child|\n",
      "+----------+---+----------+\n",
      "\n"
     ]
    }
   ],
   "source": [
    "spark.sql(\"select * from some_people\").show()"
   ]
  },
  {
   "cell_type": "code",
   "execution_count": 51,
   "id": "92cb2b49-f6a5-4fda-abb1-bd2b5b8c0dee",
   "metadata": {},
   "outputs": [
    {
     "data": {
      "text/plain": [
       "DataFrame[]"
      ]
     },
     "execution_count": 51,
     "metadata": {},
     "output_type": "execute_result"
    }
   ],
   "source": [
    "spark.sql(\"INSERT INTO some_people VALUES ('frank', 4, 'child')\")"
   ]
  },
  {
   "cell_type": "code",
   "execution_count": 52,
   "id": "5f8fde53-2cc2-4ccf-939f-6278c82dd0d1",
   "metadata": {},
   "outputs": [
    {
     "name": "stdout",
     "output_type": "stream",
     "text": [
      "+----------+---+----------+\n",
      "|first_name|age|life_stage|\n",
      "+----------+---+----------+\n",
      "|       heo| 13|  teenager|\n",
      "|     frank|  4|     child|\n",
      "|       sue| 32|     adult|\n",
      "|       bob| 75|     adult|\n",
      "|        li|  3|     child|\n",
      "+----------+---+----------+\n",
      "\n"
     ]
    }
   ],
   "source": [
    "spark.sql(\"select * from some_people\").show()"
   ]
  },
  {
   "cell_type": "code",
   "execution_count": 54,
   "id": "a0c42d13-63df-4bbc-9dd2-33465dd81c22",
   "metadata": {},
   "outputs": [
    {
     "name": "stdout",
     "output_type": "stream",
     "text": [
      "+----------+---+----------+\n",
      "|first_name|age|life_stage|\n",
      "+----------+---+----------+\n",
      "|       heo| 13|  teenager|\n",
      "+----------+---+----------+\n",
      "\n"
     ]
    }
   ],
   "source": [
    "spark.sql(\"select * from some_people where life_stage='teenager'\").show()"
   ]
  },
  {
   "cell_type": "markdown",
   "id": "8fd214c7-7862-4f0d-963e-2ee40a183456",
   "metadata": {},
   "source": [
    "## Spark RDD"
   ]
  },
  {
   "cell_type": "code",
   "execution_count": 57,
   "id": "c160bc8d-a72f-4e34-ac44-f7292ad957eb",
   "metadata": {},
   "outputs": [],
   "source": [
    "text_file = spark.sparkContext.textFile(\"some_words.txt\")"
   ]
  },
  {
   "cell_type": "code",
   "execution_count": 58,
   "id": "5e2e0bce-eecd-4e5b-86f7-fdee72130abf",
   "metadata": {},
   "outputs": [],
   "source": [
    "counts = (\n",
    "    text_file.flatMap(lambda line: line.split(\" \"))\n",
    "    .map(lambda word: (word, 1))\n",
    "    .reduceByKey(lambda a, b: a + b)\n",
    ")"
   ]
  },
  {
   "cell_type": "code",
   "execution_count": 60,
   "id": "0d630f0a-48d3-4eb3-aee9-07a64e4e9e0b",
   "metadata": {},
   "outputs": [
    {
     "data": {
      "text/plain": [
       "[('these', 2),\n",
       " ('are', 2),\n",
       " ('more', 1),\n",
       " ('in', 1),\n",
       " ('words', 3),\n",
       " ('english', 1)]"
      ]
     },
     "execution_count": 60,
     "metadata": {},
     "output_type": "execute_result"
    }
   ],
   "source": [
    "counts.collect()"
   ]
  },
  {
   "cell_type": "markdown",
   "id": "80dddb17-ee27-49aa-80dd-80ad054f2773",
   "metadata": {},
   "source": [
    "## Spark unit testing"
   ]
  },
  {
   "cell_type": "code",
   "execution_count": 53,
   "id": "44ac552c-b3bb-4415-8419-dfd37c7b2e71",
   "metadata": {},
   "outputs": [],
   "source": [
    "def with_life_stage(df):\n",
    "    return df.withColumn(\n",
    "        \"life_stage\",\n",
    "        when(col(\"age\") < 13, \"child\")\n",
    "        .when(col(\"age\").between(13, 19), \"teenager\")\n",
    "        .when(col(\"age\") > 19, \"adult\")\n",
    "    )"
   ]
  },
  {
   "cell_type": "code",
   "execution_count": null,
   "id": "06af3358-24c7-4daf-a2f1-be72befd60a6",
   "metadata": {},
   "outputs": [],
   "source": [
    "def with_life_stage(df):\n",
    "    return spark.sql(\"select *, life_stage from {df}\", df=df)"
   ]
  },
  {
   "cell_type": "code",
   "execution_count": 54,
   "id": "79a94178-c7bb-49c4-8a8d-2cfca36e6f7c",
   "metadata": {},
   "outputs": [],
   "source": [
    "df = spark.createDataFrame(\n",
    "    [\n",
    "        (3, \"child\"),\n",
    "        (75, \"adult\"),\n",
    "        (19, \"teenager\"),\n",
    "        (None, None),\n",
    "    ],\n",
    "    [\"age\", \"expected\"],\n",
    ")"
   ]
  },
  {
   "cell_type": "code",
   "execution_count": 55,
   "id": "fd6447f2-8a20-401c-b303-b766b452be4d",
   "metadata": {},
   "outputs": [],
   "source": [
    "import chispa\n",
    "\n",
    "chispa.assert_column_equality(df.transform(with_life_stage), \"life_stage\", \"expected\")"
   ]
  },
  {
   "cell_type": "code",
   "execution_count": 56,
   "id": "614fa29e-d8dd-4ae3-b8cc-06b39c49ca27",
   "metadata": {},
   "outputs": [
    {
     "name": "stdout",
     "output_type": "stream",
     "text": [
      "+----+--------+----------+\n",
      "| age|expected|life_stage|\n",
      "+----+--------+----------+\n",
      "|   3|   child|     child|\n",
      "|  75|   adult|     adult|\n",
      "|  19|teenager|  teenager|\n",
      "|null|    null|      null|\n",
      "+----+--------+----------+\n",
      "\n"
     ]
    }
   ],
   "source": [
    "df.transform(with_life_stage).show()"
   ]
  },
  {
   "cell_type": "code",
   "execution_count": null,
   "id": "a54b8357-9a34-4696-a304-ad04b92e0081",
   "metadata": {},
   "outputs": [],
   "source": []
  }
 ],
 "metadata": {
  "kernelspec": {
   "display_name": "pyspark-341",
   "language": "python",
   "name": "pyspark-341"
  },
  "language_info": {
   "codemirror_mode": {
    "name": "ipython",
    "version": 3
   },
   "file_extension": ".py",
   "mimetype": "text/x-python",
   "name": "python",
   "nbconvert_exporter": "python",
   "pygments_lexer": "ipython3",
   "version": "3.9.16"
  }
 },
 "nbformat": 4,
 "nbformat_minor": 5
}
