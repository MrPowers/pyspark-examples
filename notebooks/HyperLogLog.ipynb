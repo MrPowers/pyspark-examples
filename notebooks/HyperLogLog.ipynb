{
 "cells": [
  {
   "cell_type": "markdown",
   "id": "973b94ce-2e47-433f-94f4-469e75a991f5",
   "metadata": {},
   "source": [
    "# HyperLogLog"
   ]
  },
  {
   "cell_type": "code",
   "execution_count": 1,
   "id": "c342592d-725e-4a4a-8202-c6787efeef3e",
   "metadata": {},
   "outputs": [],
   "source": [
    "import os\n",
    "import sys\n",
    "os.environ['PYSPARK_PYTHON'] = sys.executable\n",
    "os.environ['PYSPARK_DRIVER_PYTHON'] = sys.executable"
   ]
  },
  {
   "cell_type": "code",
   "execution_count": 8,
   "id": "e3413b07-8b1f-4e9e-82bd-58846c3996a2",
   "metadata": {},
   "outputs": [],
   "source": [
    "from pyspark.sql import SparkSession\n",
    "from pyspark.sql import Column\n",
    "from pyspark.sql.functions import col, trim, regexp_replace, hll_sketch_estimate, hll_sketch_agg"
   ]
  },
  {
   "cell_type": "code",
   "execution_count": 3,
   "id": "584148e6-37cd-48fb-83b1-14ddad3de767",
   "metadata": {},
   "outputs": [
    {
     "name": "stderr",
     "output_type": "stream",
     "text": [
      "24/10/14 08:30:09 WARN Utils: Your hostname, Matthews-MacBook-Pro.local resolves to a loopback address: 127.0.0.1; using 192.168.8.188 instead (on interface en0)\n",
      "24/10/14 08:30:09 WARN Utils: Set SPARK_LOCAL_IP if you need to bind to another address\n",
      "Setting default log level to \"WARN\".\n",
      "To adjust logging level use sc.setLogLevel(newLevel). For SparkR, use setLogLevel(newLevel).\n",
      "24/10/14 08:30:10 WARN NativeCodeLoader: Unable to load native-hadoop library for your platform... using builtin-java classes where applicable\n",
      "----------------------------------------\n",
      "Exception occurred during processing of request from ('127.0.0.1', 63166)\n",
      "Traceback (most recent call last):\n",
      "  File \"/opt/miniconda3/envs/pyspark-351/lib/python3.11/socketserver.py\", line 317, in _handle_request_noblock\n",
      "    self.process_request(request, client_address)\n",
      "  File \"/opt/miniconda3/envs/pyspark-351/lib/python3.11/socketserver.py\", line 348, in process_request\n",
      "    self.finish_request(request, client_address)\n",
      "  File \"/opt/miniconda3/envs/pyspark-351/lib/python3.11/socketserver.py\", line 361, in finish_request\n",
      "    self.RequestHandlerClass(request, client_address, self)\n",
      "  File \"/opt/miniconda3/envs/pyspark-351/lib/python3.11/socketserver.py\", line 755, in __init__\n",
      "    self.handle()\n",
      "  File \"/opt/miniconda3/envs/pyspark-351/lib/python3.11/site-packages/pyspark/accumulators.py\", line 295, in handle\n",
      "    poll(accum_updates)\n",
      "  File \"/opt/miniconda3/envs/pyspark-351/lib/python3.11/site-packages/pyspark/accumulators.py\", line 267, in poll\n",
      "    if self.rfile in r and func():\n",
      "                           ^^^^^^\n",
      "  File \"/opt/miniconda3/envs/pyspark-351/lib/python3.11/site-packages/pyspark/accumulators.py\", line 271, in accum_updates\n",
      "    num_updates = read_int(self.rfile)\n",
      "                  ^^^^^^^^^^^^^^^^^^^^\n",
      "  File \"/opt/miniconda3/envs/pyspark-351/lib/python3.11/site-packages/pyspark/serializers.py\", line 596, in read_int\n",
      "    raise EOFError\n",
      "EOFError\n",
      "----------------------------------------\n"
     ]
    }
   ],
   "source": [
    "spark = SparkSession.builder.master(\"local\").appName(\"demo\").getOrCreate()\n",
    "spark.sparkContext.setLogLevel(\"ERROR\")"
   ]
  },
  {
   "cell_type": "code",
   "execution_count": 4,
   "id": "2b28189a-a09e-49be-a1bc-043fdf526d53",
   "metadata": {},
   "outputs": [],
   "source": [
    "df = spark.createDataFrame([\n",
    "    (1, \"a\"), \n",
    "    (2, \"a\"),\n",
    "    (3, \"a\"),\n",
    "    (4, \"b\"),\n",
    "], [\"number\", \"letter\"])"
   ]
  },
  {
   "cell_type": "code",
   "execution_count": 15,
   "id": "732b8451-cb7f-4582-8f5e-32d3e912111c",
   "metadata": {},
   "outputs": [
    {
     "name": "stdout",
     "output_type": "stream",
     "text": [
      "+------+------+\n",
      "|number|letter|\n",
      "+------+------+\n",
      "|     1|     a|\n",
      "|     2|     a|\n",
      "|     3|     a|\n",
      "|     4|     b|\n",
      "+------+------+\n",
      "\n"
     ]
    }
   ],
   "source": [
    "df.show()"
   ]
  },
  {
   "cell_type": "code",
   "execution_count": 13,
   "id": "e681462d-4e6f-4dfd-9f3f-0f37d2a2e1e6",
   "metadata": {},
   "outputs": [],
   "source": [
    "hlls = df.agg(\n",
    "    hll_sketch_agg(df.number).alias(\"numbers_hll\"), \n",
    "    hll_sketch_agg(df.letter).alias(\"letters_hll\")\n",
    ")"
   ]
  },
  {
   "cell_type": "code",
   "execution_count": 14,
   "id": "3e68002f-1a49-4d6d-8d76-607c20e75e73",
   "metadata": {},
   "outputs": [
    {
     "name": "stdout",
     "output_type": "stream",
     "text": [
      "+--------------------+--------------------+\n",
      "|         numbers_hll|         letters_hll|\n",
      "+--------------------+--------------------+\n",
      "|[02 01 07 0C 03 0...|[02 01 07 0C 03 0...|\n",
      "+--------------------+--------------------+\n",
      "\n"
     ]
    }
   ],
   "source": [
    "hlls.show()"
   ]
  },
  {
   "cell_type": "code",
   "execution_count": 18,
   "id": "8f853159-a149-4dd7-a0c7-c14e055a5ee9",
   "metadata": {},
   "outputs": [
    {
     "name": "stdout",
     "output_type": "stream",
     "text": [
      "+----------------+----------------+\n",
      "|distinct_numbers|distinct_letters|\n",
      "+----------------+----------------+\n",
      "|               4|               2|\n",
      "+----------------+----------------+\n",
      "\n"
     ]
    }
   ],
   "source": [
    "hlls.select(\n",
    "    hll_sketch_estimate(hlls.numbers_hll).alias(\"distinct_numbers\"), \n",
    "    hll_sketch_estimate(hlls.letters_hll).alias(\"distinct_letters\")\n",
    ").show()"
   ]
  },
  {
   "cell_type": "code",
   "execution_count": null,
   "id": "1bd525bf-6dea-40c6-915b-7cd7db2eaf3f",
   "metadata": {},
   "outputs": [],
   "source": []
  }
 ],
 "metadata": {
  "kernelspec": {
   "display_name": "pyspark-351",
   "language": "python",
   "name": "pyspark-351"
  },
  "language_info": {
   "codemirror_mode": {
    "name": "ipython",
    "version": 3
   },
   "file_extension": ".py",
   "mimetype": "text/x-python",
   "name": "python",
   "nbconvert_exporter": "python",
   "pygments_lexer": "ipython3",
   "version": "3.11.10"
  }
 },
 "nbformat": 4,
 "nbformat_minor": 5
}
