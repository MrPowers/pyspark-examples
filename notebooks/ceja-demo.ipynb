{
 "cells": [
  {
   "cell_type": "markdown",
   "id": "2375c2c8-73e6-4cb8-b992-fd4950125a0c",
   "metadata": {},
   "source": [
    "# ceja demo"
   ]
  },
  {
   "cell_type": "code",
   "execution_count": 1,
   "id": "df6c91f7-12b8-4ad2-831c-09f05fec74cd",
   "metadata": {},
   "outputs": [],
   "source": [
    "import ceja\n",
    "import delta\n",
    "import pyspark\n",
    "import pyspark.sql.functions as F\n",
    "from pyspark.sql.types import *"
   ]
  },
  {
   "cell_type": "code",
   "execution_count": 2,
   "id": "db5e8056-bae4-4f50-94aa-a3c4207bad9a",
   "metadata": {},
   "outputs": [],
   "source": [
    "builder = (\n",
    "    pyspark.sql.SparkSession.builder.appName(\"MyApp\")\n",
    "    .config(\"spark.sql.extensions\", \"io.delta.sql.DeltaSparkSessionExtension\")\n",
    "    .config(\n",
    "        \"spark.sql.catalog.spark_catalog\",\n",
    "        \"org.apache.spark.sql.delta.catalog.DeltaCatalog\",\n",
    "    )\n",
    ")"
   ]
  },
  {
   "cell_type": "code",
   "execution_count": 3,
   "id": "faf90135-0bc1-4c5f-9d6c-72573dc495ae",
   "metadata": {},
   "outputs": [
    {
     "name": "stdout",
     "output_type": "stream",
     "text": [
      ":: loading settings :: url = jar:file:/Users/matthew.powers/opt/miniconda3/envs/pyspark-everything/lib/python3.9/site-packages/pyspark/jars/ivy-2.5.0.jar!/org/apache/ivy/core/settings/ivysettings.xml\n"
     ]
    },
    {
     "name": "stderr",
     "output_type": "stream",
     "text": [
      "Ivy Default Cache set to: /Users/matthew.powers/.ivy2/cache\n",
      "The jars for the packages stored in: /Users/matthew.powers/.ivy2/jars\n",
      "io.delta#delta-core_2.12 added as a dependency\n",
      ":: resolving dependencies :: org.apache.spark#spark-submit-parent-13e03790-554c-42b9-b0b4-553503e84686;1.0\n",
      "\tconfs: [default]\n",
      "\tfound io.delta#delta-core_2.12;2.2.0 in central\n",
      "\tfound io.delta#delta-storage;2.2.0 in central\n",
      "\tfound org.antlr#antlr4-runtime;4.8 in central\n",
      ":: resolution report :: resolve 309ms :: artifacts dl 15ms\n",
      "\t:: modules in use:\n",
      "\tio.delta#delta-core_2.12;2.2.0 from central in [default]\n",
      "\tio.delta#delta-storage;2.2.0 from central in [default]\n",
      "\torg.antlr#antlr4-runtime;4.8 from central in [default]\n",
      "\t---------------------------------------------------------------------\n",
      "\t|                  |            modules            ||   artifacts   |\n",
      "\t|       conf       | number| search|dwnlded|evicted|| number|dwnlded|\n",
      "\t---------------------------------------------------------------------\n",
      "\t|      default     |   3   |   0   |   0   |   0   ||   3   |   0   |\n",
      "\t---------------------------------------------------------------------\n",
      ":: retrieving :: org.apache.spark#spark-submit-parent-13e03790-554c-42b9-b0b4-553503e84686\n",
      "\tconfs: [default]\n",
      "\t0 artifacts copied, 3 already retrieved (0kB/16ms)\n"
     ]
    },
    {
     "name": "stdout",
     "output_type": "stream",
     "text": [
      "23/02/12 13:08:23 WARN NativeCodeLoader: Unable to load native-hadoop library for your platform... using builtin-java classes where applicable\n"
     ]
    },
    {
     "name": "stderr",
     "output_type": "stream",
     "text": [
      "Setting default log level to \"WARN\".\n",
      "To adjust logging level use sc.setLogLevel(newLevel). For SparkR, use setLogLevel(newLevel).\n"
     ]
    }
   ],
   "source": [
    "spark = delta.configure_spark_with_delta_pip(builder).getOrCreate()"
   ]
  },
  {
   "cell_type": "markdown",
   "id": "d014577c-9bd0-4367-bac3-6759f0138b59",
   "metadata": {},
   "source": [
    "# Phonetic algorithms"
   ]
  },
  {
   "cell_type": "markdown",
   "id": "85f10a81-f86a-4725-bccb-c8bd104c1a6f",
   "metadata": {},
   "source": [
    "## NYSIIS"
   ]
  },
  {
   "cell_type": "code",
   "execution_count": 77,
   "id": "b77f658f-3371-4e8d-b64e-d3516c014a59",
   "metadata": {},
   "outputs": [],
   "source": [
    "df = spark.createDataFrame([(\"jellyfish\",), (\"there\",), (\"their\",), (None,)], [\"word\"])"
   ]
  },
  {
   "cell_type": "code",
   "execution_count": 78,
   "id": "82428c52-e0d6-41e0-9bed-d996dcd24ee8",
   "metadata": {},
   "outputs": [
    {
     "name": "stdout",
     "output_type": "stream",
     "text": [
      "+---------+\n",
      "|     word|\n",
      "+---------+\n",
      "|jellyfish|\n",
      "|    there|\n",
      "|    their|\n",
      "|     null|\n",
      "+---------+\n",
      "\n"
     ]
    }
   ],
   "source": [
    "df.show()"
   ]
  },
  {
   "cell_type": "code",
   "execution_count": 81,
   "id": "730f6d0f-2acc-4a55-8566-b3f1fb6e9139",
   "metadata": {},
   "outputs": [
    {
     "name": "stdout",
     "output_type": "stream",
     "text": [
      "+---------+-----------+\n",
      "|     word|word_nysiis|\n",
      "+---------+-----------+\n",
      "|jellyfish|      JALYF|\n",
      "|    there|        TAR|\n",
      "|    their|        TAR|\n",
      "|     null|       null|\n",
      "+---------+-----------+\n",
      "\n"
     ]
    }
   ],
   "source": [
    "df.withColumn(\"word_nysiis\", ceja.nysiis(F.col(\"word\"))).show()"
   ]
  },
  {
   "cell_type": "markdown",
   "id": "bb397eb7-ce13-4cbd-87c0-6896986b532f",
   "metadata": {},
   "source": [
    "## Metaphone"
   ]
  },
  {
   "cell_type": "code",
   "execution_count": 82,
   "id": "3a19e6af-0807-46b1-a015-e1b51a995aa2",
   "metadata": {},
   "outputs": [],
   "source": [
    "df = spark.createDataFrame(\n",
    "    [(\"jellyfish\",), (\"their\",), (\"there\",), (\"Klumpz\",), (\"Clumps\",), (None,)], [\"word\"]\n",
    ")"
   ]
  },
  {
   "cell_type": "code",
   "execution_count": 83,
   "id": "593e4208-0ce2-441f-ac26-64e2eaf80e71",
   "metadata": {},
   "outputs": [
    {
     "name": "stderr",
     "output_type": "stream",
     "text": [
      "                                                                                \r"
     ]
    },
    {
     "name": "stdout",
     "output_type": "stream",
     "text": [
      "+---------+\n",
      "|     word|\n",
      "+---------+\n",
      "|jellyfish|\n",
      "|    their|\n",
      "|    there|\n",
      "|   Klumpz|\n",
      "|   Clumps|\n",
      "|     null|\n",
      "+---------+\n",
      "\n"
     ]
    }
   ],
   "source": [
    "df.show()"
   ]
  },
  {
   "cell_type": "code",
   "execution_count": 84,
   "id": "b33785ee-7d63-45dc-b46d-c7577370913e",
   "metadata": {},
   "outputs": [],
   "source": [
    "df = df.withColumn(\"word_metaphone\", ceja.metaphone(F.col(\"word\")))"
   ]
  },
  {
   "cell_type": "code",
   "execution_count": 85,
   "id": "9a06db6c-0060-4e5b-a114-40d9e35291bd",
   "metadata": {},
   "outputs": [
    {
     "name": "stdout",
     "output_type": "stream",
     "text": [
      "+---------+--------------+\n",
      "|     word|word_metaphone|\n",
      "+---------+--------------+\n",
      "|jellyfish|          JLFX|\n",
      "|    their|            0R|\n",
      "|    there|            0R|\n",
      "|   Klumpz|         KLMPS|\n",
      "|   Clumps|         KLMPS|\n",
      "|     null|          null|\n",
      "+---------+--------------+\n",
      "\n"
     ]
    }
   ],
   "source": [
    "df.show()"
   ]
  },
  {
   "cell_type": "markdown",
   "id": "eb64bcec-ae8b-48ae-a149-67a0961049c2",
   "metadata": {},
   "source": [
    "## Match rating codex"
   ]
  },
  {
   "cell_type": "code",
   "execution_count": 26,
   "id": "82e661c5-c9f4-4d52-bbb7-7b0e5ae6e841",
   "metadata": {},
   "outputs": [],
   "source": [
    "data = [(\"jellyfish\",), (\"li\",), (\"l\",), (\"luisa\",), (None,)]"
   ]
  },
  {
   "cell_type": "code",
   "execution_count": 27,
   "id": "df333048-1873-40c8-9611-3f84569d498e",
   "metadata": {},
   "outputs": [],
   "source": [
    "df = spark.createDataFrame(data, [\"word\"])"
   ]
  },
  {
   "cell_type": "code",
   "execution_count": null,
   "id": "9e6aae89-df9f-4da9-8631-a2f81e0cb30c",
   "metadata": {},
   "outputs": [],
   "source": [
    "df.show()"
   ]
  },
  {
   "cell_type": "code",
   "execution_count": 28,
   "id": "f37fec1b-4af1-4af2-9f3f-94d9a032d867",
   "metadata": {},
   "outputs": [],
   "source": [
    "df = df.withColumn(\"word_match_rating_codex\", ceja.match_rating_codex(F.col(\"word\")))"
   ]
  },
  {
   "cell_type": "code",
   "execution_count": 29,
   "id": "5a6a92db-df6b-4f62-beac-c01c24f016b4",
   "metadata": {},
   "outputs": [
    {
     "name": "stdout",
     "output_type": "stream",
     "text": [
      "+---------+-----------------------+\n",
      "|     word|word_match_rating_codex|\n",
      "+---------+-----------------------+\n",
      "|jellyfish|                 JLYFSH|\n",
      "|       li|                      L|\n",
      "|        l|                      L|\n",
      "|    luisa|                     LS|\n",
      "|     null|                   null|\n",
      "+---------+-----------------------+\n",
      "\n"
     ]
    }
   ],
   "source": [
    "df.show()"
   ]
  },
  {
   "cell_type": "markdown",
   "id": "040dd762-2c3d-4d1b-bdad-d3a18b2f9b0e",
   "metadata": {},
   "source": [
    "# Stemming algorithms"
   ]
  },
  {
   "cell_type": "markdown",
   "id": "d7cb9a0e-1276-4e54-b27f-978a82e531c6",
   "metadata": {},
   "source": [
    "## Porter stem"
   ]
  },
  {
   "cell_type": "code",
   "execution_count": 96,
   "id": "b9936664-c39e-4fb9-891f-5293338c9b38",
   "metadata": {},
   "outputs": [],
   "source": [
    "data = [(\"washing\",), (\"washed\",), (\"wash\",), (None,)]"
   ]
  },
  {
   "cell_type": "code",
   "execution_count": 97,
   "id": "429b9873-ce70-4fe3-ab63-5cce4eaf48ee",
   "metadata": {},
   "outputs": [],
   "source": [
    "df = spark.createDataFrame(data, [\"word\"])"
   ]
  },
  {
   "cell_type": "code",
   "execution_count": 98,
   "id": "1c4b044b-4584-4705-a92c-081c988fd534",
   "metadata": {},
   "outputs": [
    {
     "name": "stdout",
     "output_type": "stream",
     "text": [
      "+-------+\n",
      "|   word|\n",
      "+-------+\n",
      "|washing|\n",
      "| washed|\n",
      "|   wash|\n",
      "|   null|\n",
      "+-------+\n",
      "\n"
     ]
    }
   ],
   "source": [
    "df.show()"
   ]
  },
  {
   "cell_type": "code",
   "execution_count": 99,
   "id": "4fffe28d-6b10-4795-8ab4-a8798043c66b",
   "metadata": {},
   "outputs": [],
   "source": [
    "df = df.withColumn(\"word_porter_stem\", ceja.porter_stem(F.col(\"word\")))"
   ]
  },
  {
   "cell_type": "code",
   "execution_count": 100,
   "id": "f5ac8bd2-1926-4d0a-b0d3-c1d1f676376f",
   "metadata": {},
   "outputs": [
    {
     "name": "stdout",
     "output_type": "stream",
     "text": [
      "+-------+----------------+\n",
      "|   word|word_porter_stem|\n",
      "+-------+----------------+\n",
      "|washing|            wash|\n",
      "| washed|            wash|\n",
      "|   wash|            wash|\n",
      "|   null|            null|\n",
      "+-------+----------------+\n",
      "\n"
     ]
    }
   ],
   "source": [
    "df.show()"
   ]
  },
  {
   "cell_type": "markdown",
   "id": "7f8e959c-ad5c-4a28-95b7-02502e462150",
   "metadata": {},
   "source": [
    "# Similarity algorithms"
   ]
  },
  {
   "cell_type": "markdown",
   "id": "cb24b709-ac3e-4b67-ac21-9489e1562895",
   "metadata": {},
   "source": [
    "## Damerau Levenshtein Distance"
   ]
  },
  {
   "cell_type": "code",
   "execution_count": 101,
   "id": "c1361849-e884-4a94-aaa7-d3f1d4ce4d11",
   "metadata": {},
   "outputs": [],
   "source": [
    "data = [(\"jellyfish\", \"smellyfish\"), (\"li\", \"lee\"), (\"luisa\", \"luisa\"), (None, None)]"
   ]
  },
  {
   "cell_type": "code",
   "execution_count": 102,
   "id": "6816d16e-aac7-42c1-99f9-769c23a2e7e7",
   "metadata": {},
   "outputs": [],
   "source": [
    "df = spark.createDataFrame(data, [\"word1\", \"word2\"])"
   ]
  },
  {
   "cell_type": "code",
   "execution_count": 103,
   "id": "b059822f-ad7e-4db8-8364-e6200935840c",
   "metadata": {},
   "outputs": [
    {
     "name": "stdout",
     "output_type": "stream",
     "text": [
      "+---------+----------+\n",
      "|    word1|     word2|\n",
      "+---------+----------+\n",
      "|jellyfish|smellyfish|\n",
      "|       li|       lee|\n",
      "|    luisa|     luisa|\n",
      "|     null|      null|\n",
      "+---------+----------+\n",
      "\n"
     ]
    }
   ],
   "source": [
    "df.show()"
   ]
  },
  {
   "cell_type": "code",
   "execution_count": 104,
   "id": "fed039b6-8921-4ece-b42b-dd2b192b825b",
   "metadata": {},
   "outputs": [],
   "source": [
    "df = df.withColumn(\n",
    "    \"damerau_levenshtein_distance\",\n",
    "    ceja.damerau_levenshtein_distance(F.col(\"word1\"), F.col(\"word2\")),\n",
    ")"
   ]
  },
  {
   "cell_type": "code",
   "execution_count": 105,
   "id": "9053dd62-4c29-4e27-874c-b3c0a5c111dd",
   "metadata": {},
   "outputs": [
    {
     "name": "stdout",
     "output_type": "stream",
     "text": [
      "+---------+----------+----------------------------+\n",
      "|    word1|     word2|damerau_levenshtein_distance|\n",
      "+---------+----------+----------------------------+\n",
      "|jellyfish|smellyfish|                           2|\n",
      "|       li|       lee|                           2|\n",
      "|    luisa|     luisa|                           0|\n",
      "|     null|      null|                        null|\n",
      "+---------+----------+----------------------------+\n",
      "\n"
     ]
    }
   ],
   "source": [
    "df.show()"
   ]
  },
  {
   "cell_type": "markdown",
   "id": "2e419310-059d-4b4f-9214-27fc8d98c1ab",
   "metadata": {},
   "source": [
    "## Hamming distance"
   ]
  },
  {
   "cell_type": "code",
   "execution_count": 44,
   "id": "aeb3cd90-49c7-4390-9eb5-209fc03a34e1",
   "metadata": {},
   "outputs": [],
   "source": [
    "data = [(\"jellyfish\", \"smellyfish\"), (\"li\", \"lee\"), (\"luisa\", \"bruna\"), (None, None)]"
   ]
  },
  {
   "cell_type": "code",
   "execution_count": 45,
   "id": "c7147af7-6dbf-4eda-888b-8916ead596d8",
   "metadata": {},
   "outputs": [],
   "source": [
    "df = spark.createDataFrame(data, [\"word1\", \"word2\"])"
   ]
  },
  {
   "cell_type": "code",
   "execution_count": null,
   "id": "50fd4416-9dcd-44e0-afdc-9e5317b15a74",
   "metadata": {},
   "outputs": [],
   "source": [
    "df.show()"
   ]
  },
  {
   "cell_type": "code",
   "execution_count": 47,
   "id": "a18dba44-9e5c-4123-bda8-1725c08e99ab",
   "metadata": {},
   "outputs": [],
   "source": [
    "df = df.withColumn(\n",
    "    \"hamming_distance\", ceja.hamming_distance(F.col(\"word1\"), F.col(\"word2\"))\n",
    ")"
   ]
  },
  {
   "cell_type": "code",
   "execution_count": 48,
   "id": "4914551a-f7ca-4bb4-bf17-8dadf0b6c233",
   "metadata": {},
   "outputs": [
    {
     "name": "stdout",
     "output_type": "stream",
     "text": [
      "+---------+----------+----------------+\n",
      "|    word1|     word2|hamming_distance|\n",
      "+---------+----------+----------------+\n",
      "|jellyfish|smellyfish|               9|\n",
      "|       li|       lee|               2|\n",
      "|    luisa|     bruna|               4|\n",
      "|     null|      null|            null|\n",
      "+---------+----------+----------------+\n",
      "\n"
     ]
    }
   ],
   "source": [
    "df.show()"
   ]
  },
  {
   "cell_type": "markdown",
   "id": "c742d6e0-cef9-4d66-944a-a44b053e5336",
   "metadata": {},
   "source": [
    "## Jaro similarity"
   ]
  },
  {
   "cell_type": "code",
   "execution_count": 49,
   "id": "55e27348-dbfe-4c2f-a213-0bd1f1698120",
   "metadata": {},
   "outputs": [],
   "source": [
    "data = [\n",
    "    (\"jellyfish\", \"smellyfish\"),\n",
    "    (\"li\", \"lee\"),\n",
    "    (\"luisa\", \"bruna\"),\n",
    "    (\"hi\", \"colombia\"),\n",
    "    (None, None),\n",
    "]"
   ]
  },
  {
   "cell_type": "code",
   "execution_count": 50,
   "id": "a46f5656-63ee-41c8-b533-caa1991f5918",
   "metadata": {},
   "outputs": [],
   "source": [
    "df = spark.createDataFrame(data, [\"word1\", \"word2\"])"
   ]
  },
  {
   "cell_type": "code",
   "execution_count": null,
   "id": "549c9cb7-7c56-4b2b-bcab-6ee79fd92ab7",
   "metadata": {},
   "outputs": [],
   "source": [
    "df.show()"
   ]
  },
  {
   "cell_type": "code",
   "execution_count": 54,
   "id": "f3ae30e2-ea57-4b0a-99db-3a17e4e497d7",
   "metadata": {},
   "outputs": [],
   "source": [
    "df = df.withColumn(\n",
    "    \"jaro_similarity\", ceja.jaro_similarity(F.col(\"word1\"), F.col(\"word2\"))\n",
    ")"
   ]
  },
  {
   "cell_type": "code",
   "execution_count": 55,
   "id": "30afdde7-d134-40cf-933b-bf26e6305a6b",
   "metadata": {},
   "outputs": [
    {
     "name": "stdout",
     "output_type": "stream",
     "text": [
      "+---------+----------+---------------+\n",
      "|    word1|     word2|jaro_similarity|\n",
      "+---------+----------+---------------+\n",
      "|jellyfish|smellyfish|      0.8962963|\n",
      "|       li|       lee|      0.6111111|\n",
      "|    luisa|     bruna|            0.6|\n",
      "|       hi|  colombia|            0.0|\n",
      "|     null|      null|           null|\n",
      "+---------+----------+---------------+\n",
      "\n"
     ]
    }
   ],
   "source": [
    "df.show()"
   ]
  },
  {
   "cell_type": "markdown",
   "id": "85fc66e5-b01c-4ad6-9210-d322a529f3cc",
   "metadata": {},
   "source": [
    "## Jaro Winkler similarity"
   ]
  },
  {
   "cell_type": "code",
   "execution_count": 56,
   "id": "b143fda4-f7d3-48b8-9966-5f82a81d2d1f",
   "metadata": {},
   "outputs": [],
   "source": [
    "data = [(\"jellyfish\", \"smellyfish\"), (\"li\", \"lee\"), (\"luisa\", \"bruna\"), (None, None)]"
   ]
  },
  {
   "cell_type": "code",
   "execution_count": 57,
   "id": "91f7f933-a9c6-46f0-8c3f-594e8a9d496a",
   "metadata": {},
   "outputs": [],
   "source": [
    "df = spark.createDataFrame(data, [\"word1\", \"word2\"])"
   ]
  },
  {
   "cell_type": "code",
   "execution_count": null,
   "id": "3be06a53-9e60-4d10-999d-a4c20420105f",
   "metadata": {},
   "outputs": [],
   "source": [
    "df.show()"
   ]
  },
  {
   "cell_type": "code",
   "execution_count": 60,
   "id": "59d2104a-e4b6-4ce9-a1a1-63a41cf867c6",
   "metadata": {},
   "outputs": [],
   "source": [
    "df = df.withColumn(\n",
    "    \"jaro_winkler_similarity\",\n",
    "    ceja.jaro_winkler_similarity(F.col(\"word1\"), F.col(\"word2\")),\n",
    ")"
   ]
  },
  {
   "cell_type": "code",
   "execution_count": 61,
   "id": "84d2edf9-0191-4e97-9cda-bd302b5e0cda",
   "metadata": {},
   "outputs": [
    {
     "name": "stdout",
     "output_type": "stream",
     "text": [
      "+---------+----------+-----------------------+\n",
      "|    word1|     word2|jaro_winkler_similarity|\n",
      "+---------+----------+-----------------------+\n",
      "|jellyfish|smellyfish|              0.8962963|\n",
      "|       li|       lee|              0.6111111|\n",
      "|    luisa|     bruna|                    0.6|\n",
      "|     null|      null|                   null|\n",
      "+---------+----------+-----------------------+\n",
      "\n"
     ]
    }
   ],
   "source": [
    "df.show()"
   ]
  },
  {
   "cell_type": "markdown",
   "id": "bef04467-f735-4fee-92d1-a9ae2a78f493",
   "metadata": {},
   "source": [
    "## Match rating comparison"
   ]
  },
  {
   "cell_type": "code",
   "execution_count": 62,
   "id": "547ffdf7-1083-4cc6-a7a8-c6ce72f5fc88",
   "metadata": {},
   "outputs": [],
   "source": [
    "data = [(\"mat\", \"matt\"), (\"there\", \"their\"), (\"luisa\", \"bruna\"), (None, None)]"
   ]
  },
  {
   "cell_type": "code",
   "execution_count": 63,
   "id": "f86e53f7-bd67-4039-983a-ef5adaa2fc20",
   "metadata": {},
   "outputs": [],
   "source": [
    "df = spark.createDataFrame(data, [\"word1\", \"word2\"])"
   ]
  },
  {
   "cell_type": "code",
   "execution_count": null,
   "id": "14e5cc21-ba07-4639-b8bc-59131e99b200",
   "metadata": {},
   "outputs": [],
   "source": [
    "df.show()"
   ]
  },
  {
   "cell_type": "code",
   "execution_count": 67,
   "id": "4d7a5498-9419-4b73-aa3a-13d84446501b",
   "metadata": {},
   "outputs": [],
   "source": [
    "df = df.withColumn(\n",
    "    \"match_rating_comparison\",\n",
    "    ceja.match_rating_comparison(F.col(\"word1\"), F.col(\"word2\")),\n",
    ")"
   ]
  },
  {
   "cell_type": "code",
   "execution_count": 68,
   "id": "97ce1d65-7d77-495c-ac92-7171590863e1",
   "metadata": {},
   "outputs": [
    {
     "name": "stdout",
     "output_type": "stream",
     "text": [
      "+-----+-----+-----------------------+\n",
      "|word1|word2|match_rating_comparison|\n",
      "+-----+-----+-----------------------+\n",
      "|  mat| matt|                   true|\n",
      "|there|their|                   true|\n",
      "|luisa|bruna|                  false|\n",
      "| null| null|                   null|\n",
      "+-----+-----+-----------------------+\n",
      "\n"
     ]
    }
   ],
   "source": [
    "df.show()"
   ]
  }
 ],
 "metadata": {
  "kernelspec": {
   "display_name": "pyspark-340-delta-240",
   "language": "python",
   "name": "pyspark-340-delta-240"
  },
  "language_info": {
   "codemirror_mode": {
    "name": "ipython",
    "version": 3
   },
   "file_extension": ".py",
   "mimetype": "text/x-python",
   "name": "python",
   "nbconvert_exporter": "python",
   "pygments_lexer": "ipython3",
   "version": "3.9.16"
  }
 },
 "nbformat": 4,
 "nbformat_minor": 5
}
