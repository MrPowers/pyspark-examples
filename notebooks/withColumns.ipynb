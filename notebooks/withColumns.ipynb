{
 "cells": [
  {
   "cell_type": "markdown",
   "id": "341ce0c5-cc86-444c-8376-d31271ec2d3a",
   "metadata": {},
   "source": [
    "# PySpark withColumns"
   ]
  },
  {
   "cell_type": "code",
   "execution_count": 3,
   "id": "7c7418fd-6cfa-4562-a977-4a686235862b",
   "metadata": {},
   "outputs": [],
   "source": [
    "import pyspark\n",
    "import pyspark.sql.functions as F\n",
    "import quinn\n",
    "from pyspark.sql import SparkSession\n",
    "from pyspark.sql.types import *"
   ]
  },
  {
   "cell_type": "code",
   "execution_count": 4,
   "id": "d19dd0cb-4466-4b17-8f14-6d1587eafb3e",
   "metadata": {},
   "outputs": [
    {
     "name": "stderr",
     "output_type": "stream",
     "text": [
      "Setting default log level to \"WARN\".\n",
      "To adjust logging level use sc.setLogLevel(newLevel). For SparkR, use setLogLevel(newLevel).\n",
      "24/05/05 14:56:49 WARN NativeCodeLoader: Unable to load native-hadoop library for your platform... using builtin-java classes where applicable\n"
     ]
    }
   ],
   "source": [
    "spark = SparkSession.builder.getOrCreate()"
   ]
  },
  {
   "cell_type": "code",
   "execution_count": 7,
   "id": "96da26a2-a3b0-438d-a482-70e30fe3cd4f",
   "metadata": {},
   "outputs": [],
   "source": [
    "df = spark.createDataFrame([(\"bob&loblaw\", 3), (\"sue&cook\", 5)]).toDF(\n",
    "    \"full_name\", \"age\"\n",
    ")"
   ]
  },
  {
   "cell_type": "code",
   "execution_count": 8,
   "id": "bf5ccba6-0b54-4e5e-9c23-ef9753db6ca7",
   "metadata": {},
   "outputs": [
    {
     "name": "stdout",
     "output_type": "stream",
     "text": [
      "+----------+---+\n",
      "| full_name|age|\n",
      "+----------+---+\n",
      "|bob&loblaw|  3|\n",
      "|  sue&cook|  5|\n",
      "+----------+---+\n",
      "\n"
     ]
    }
   ],
   "source": [
    "df.show()"
   ]
  },
  {
   "cell_type": "code",
   "execution_count": 9,
   "id": "26844a66-7cdd-4142-9a6a-969b9d3c7eec",
   "metadata": {},
   "outputs": [],
   "source": [
    "from pyspark.sql.functions import split"
   ]
  },
  {
   "cell_type": "code",
   "execution_count": 13,
   "id": "b0eb9998-b4bc-45fe-9a2f-4686bf2fc71f",
   "metadata": {},
   "outputs": [
    {
     "name": "stdout",
     "output_type": "stream",
     "text": [
      "+----------+---+----------+---------+\n",
      "| full_name|age|first_name|last_name|\n",
      "+----------+---+----------+---------+\n",
      "|bob&loblaw|  3|       bob|   loblaw|\n",
      "|  sue&cook|  5|       sue|     cook|\n",
      "+----------+---+----------+---------+\n",
      "\n"
     ]
    }
   ],
   "source": [
    "name = split(df.full_name, \"&\")\n",
    "df.withColumns({\"first_name\": name[0], \"last_name\": name[1]}).show()"
   ]
  },
  {
   "cell_type": "code",
   "execution_count": 14,
   "id": "f9a31268-1e7e-4673-b1e7-9d86f1eb72fd",
   "metadata": {},
   "outputs": [
    {
     "name": "stdout",
     "output_type": "stream",
     "text": [
      "== Physical Plan ==\n",
      "*(1) Project [_1#17 AS full_name#21, _2#18L AS age#22L, split(_1#17, &, -1)[0] AS first_name#80, split(_1#17, &, -1)[1] AS last_name#81]\n",
      "+- *(1) Scan ExistingRDD[_1#17,_2#18L]\n",
      "\n",
      "\n"
     ]
    }
   ],
   "source": [
    "name = split(df.full_name, \"&\")\n",
    "df.withColumns({\"first_name\": name[0], \"last_name\": name[1]}).explain()"
   ]
  },
  {
   "cell_type": "code",
   "execution_count": 17,
   "id": "408fb3e2-bb80-484b-a50a-2deba6a81df4",
   "metadata": {},
   "outputs": [
    {
     "name": "stdout",
     "output_type": "stream",
     "text": [
      "== Physical Plan ==\n",
      "*(1) Project [_1#17 AS full_name#21, _2#18L AS age#22L, split(_1#17, &, -1)[0] AS first_name#86, split(_1#17, &, -1)[1] AS last_name#87]\n",
      "+- *(1) Scan ExistingRDD[_1#17,_2#18L]\n",
      "\n",
      "\n"
     ]
    }
   ],
   "source": [
    "name = split(df.full_name, \"&\")\n",
    "df.select(\"full_name\", \"age\", name[0].alias(\"first_name\"), name[1].alias(\"last_name\")).explain()"
   ]
  },
  {
   "cell_type": "code",
   "execution_count": null,
   "id": "c4e95746-126b-470d-9a28-7bd1d35bae4b",
   "metadata": {},
   "outputs": [],
   "source": []
  }
 ],
 "metadata": {
  "kernelspec": {
   "display_name": "pyspark-350",
   "language": "python",
   "name": "pyspark-350"
  },
  "language_info": {
   "codemirror_mode": {
    "name": "ipython",
    "version": 3
   },
   "file_extension": ".py",
   "mimetype": "text/x-python",
   "name": "python",
   "nbconvert_exporter": "python",
   "pygments_lexer": "ipython3",
   "version": "3.9.18"
  }
 },
 "nbformat": 4,
 "nbformat_minor": 5
}
